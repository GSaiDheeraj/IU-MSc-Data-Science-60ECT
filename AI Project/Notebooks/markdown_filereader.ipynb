{
 "cells": [
  {
   "cell_type": "code",
   "execution_count": 1,
   "metadata": {},
   "outputs": [],
   "source": [
    "import markdown"
   ]
  },
  {
   "cell_type": "code",
   "execution_count": 2,
   "metadata": {},
   "outputs": [],
   "source": [
    "import markdown"
   ]
  },
  {
   "cell_type": "code",
   "execution_count": 3,
   "metadata": {},
   "outputs": [
    {
     "data": {
      "text/plain": [
       "'<h1>[#4258411] Records service returns 500s when CC Admin returns 502s</h1>\\n<h2>Incident State</h2>\\n<h2>P1</h2>\\n<p>| Incident Started* | 2024-10-03T17:10:07Z |  | \\\\&lt;bot-incident-started&gt; |\\n| ----- | :---- | :---- | :---- |\\n| <strong>Incident Acknowledged*</strong> | 2024-10-03T17:11:40Z |  | \\\\&lt;bot-incident-acknowledged&gt; |\\n| <strong>Incident Resolved</strong> | 2024-10-03T17:50:16Z (40 minutes, 9 seconds) |  | \\\\&lt;bot-incident-resolved&gt; |\\n| <strong>Found by*</strong> | Observability |  |  |\\n| <strong>Current Status*</strong> | Restored |  | \\\\&lt;bot-incident-status&gt; |\\n| <strong>Impact</strong> |  |  |  |\\n| Customers* | All yUS Gov Prod customers |  |  |\\n| Cloud Provider / Regions* | USGovVirginia Prod |  | \\\\&lt;bot-cloud-provider-region&gt; |\\n| Products* | CC Responder, CC Admin, CC RMS, IDM, al US Gov Prod products |  |  |\\n| <strong>Incident</strong> |  |  |  |\\n| CC PagerDuty* | <a href=\"https://commandcentral.pagerduty.com/incidents/Q05HIEHXNLGKM6\">4258411</a> |  | \\\\&lt;bot-incident-link&gt; |\\n|             CMSO Incident # | \\\\&lt;CMSO incident link if this incident was found by customer or reported by CMSO&gt; |  |  |\\n| CMSO Change # | \\\\&lt;CMSO change # if this incident was found by customer or reported by CMSO&gt; |  |  |\\n| <strong>Google Meet</strong> |  |  |  |\\n| Technical Bridge* | <a href=\"https://meet.google.com/nms-vshh-ssc\">https://meet.google.com/nms-vshh-ssc</a> |  | \\\\&lt;bot-technical-bridge&gt; |\\n| Stakeholder Bridge | \\\\&lt;link&gt; |  |  |\\n| <strong>Chat Room Threads</strong> |  |  |  |\\n| #MSI Incident Triage* | <a href=\"https://chat.google.com/room/AAAA6ygG0xw/cZqWRcDHV_E\">https://chat.google.com/room/AAAA6ygG0xw/cZqWRcDHV_E</a> |  | \\\\&lt;bot-msi-incident-triage&gt; |\\n| #MSI Live Incident Updates | <a href=\"https://chat.google.com/room/AAAAaO9whxU/GrvNXhgRkG8\">https://chat.google.com/room/AAAAaO9whxU/GrvNXhgRkG8</a> |  | \\\\&lt;bot-msi-live-incident-updates&gt; |\\n| <strong>Incident Leaders</strong> |  |  |  |\\n| Incident Commander* | Iain Moug |  | \\\\&lt;bot-incident-commander&gt; |\\n| Communication Leader* | Iain Moug |  | \\\\&lt;bot-communication-leader&gt; |\\n| Customer Comms Leader |  |  | \\\\&lt;bot-customer-comms-leader&gt; |\\n| <a href=\"https://dev.azure.com/msi-cie/CIE%20Partners/_wiki/wikis/CIE-Partners.wiki/3427/Incident-Management\"><em>Incident Management Process</em></a>             <a href=\"https://drive.google.com/drive/folders/1c93mAGBXUcwqe4ev_svnMWYUg_oH8Ay1\">ISD/Postmortem Folder</a> |  |  |  |\\n| <a href=\"https://docs.google.com/document/d/17_rRBpPge3J2JvVLZ9-TTBNvlzuE3e5at2TjNXbv3-M\">IC/CL Checklist</a> |  |  |  |\\n| <em>Queries pertaining to the process and this template can be posted in the <a href=\"https://mail.google.com/chat/u/0/#chat/space/AAAAw8_cRcU\">SRE Community chat room</a></em> |  |  |  |</p>\\n<h2>Summary</h2>\\n<p><em>This is for a short narrative of what happened, the symptoms that were discovered, and the impact of the incident.</em><br />\\nRecords service returns 500s when CC Admin APIs return 502s</p>\\n<h2>Resolution</h2>\\n<p><em>Include a description of what solved the problem. If there was a temporary fix in place, describe that along with the long-term solution.</em><br />\\nNo further CC Admin 502 HTTP response codes observed since \\\\~17:10 UTC. Resolving incident.</p>\\n<p>Upgrading the redis tier on US Gov helped to reduce the server load and to resolve this issue.</p>\\n<h2>Timeline</h2>\\n<p><em>The timeline must be updated every 30 minutes at a minimum. Times must be entered in UTC using W3C format, ex: dd HH:mmZ. Please be descriptive, as this will help everyone understand the history of actions and the current status of the incident. <a href=\"#example-timeline\">See timeline example in appendix</a>.</em></p>\\n<p>2024-10-03T17:10Z - Raised to engineering<br />\\n2024-10-03T17:11Z - Acknowledged by Iain Moug<br />\\n2024-10-03T17:35Z - Triaged to P1<br />\\n            - IC: Iain Moug<br />\\n            - CL: Iain Moug<br />\\n2024-10-03T17:38Z - CC Responder was paged at 17:10 UTC and noticed that \\\\~18 requests for 2 real users in 2 real customers had received 500 HTTP response codes when using the CC Responder Records service. After an initial investigation, it seems that there was an Admin outage between 17:00:59 &amp; 17:04:10 UTC where CC Admin was intermittently returning 502 HTTP response codes.<br />\\n2024-10-03T17:39Z - CC Responder smoke tests are now passing again as of 17:20 UTC.<br />\\n2024-10-03T17:40Z - Currently running other CC Responder API tests that integrate with CC Admin now.<br />\\n2024-10-03T17:44Z - This CC Admin outage also affected our service bus connection with DPE (BDP) as we use CC Admin to determine how to process service bus messages received from DPE. DPE service bus processing was affected from 17:02:00 to 17:05:10 UTC.<br />\\n2024-10-03T17:46Z - As of now, it seems that this outage has resolved itself and CC Responder Records service is back to normal.<br />\\n2024-10-03T17:49Z - This would have affected CC Responder Records operations; uploading a form, uploading a note and carrying out a person entity search (via DPE). This affected 18 user transactions from 2 users over 2 agencies. As well as delaying processing of DPE service bus messages which would result in a temporary slowness in users receiving messages from the CC Responder Distribution service.<br />\\n2024-10-03T17:50Z - Resolved: Restored No further CC Admin 502 HTTP response codes observed since \\\\~17:10 UTC. Resolving incident.</p>\\n<h1>Postmortem</h1>\\n<h2><em>The postmortem must be drafted immediately and filled out as well as possible </em><em>within 24 hours</em><em> of the incident resolving. The public RCA must be fully completed and the corresponding action items must be created within </em><em>72 hours</em><em>.</em></h2>\\n<p>| Meeting Information |  |\\n| :---- | :---- |\\n| <strong>Meeting Date*</strong> | 2024-10-07T15:00:00Z |\\n| <strong>Organizer*</strong> | <a href=\"mailto:prakash.satyani@motorolasolutions.com\">Prakash Satyani</a> |\\n| <strong>Meeting*</strong> | <a href=\"https://meet.google.com/iuc-kgkx-cuc\">https://meet.google.com/iuc-kgkx-cuc</a>  |</p>\\n<p>| Incident Recurrence |  |\\n| :---- | :---- |\\n| <strong>Potential to Reoccur?</strong> |  |\\n| <strong>Previous IRDs</strong> | <a href=\"https://docs.google.com/document/d/1HkWHxggOENQ5s5yw8N2gj1e3mjdNPFfWye2GibwhyxM/edit#heading=h.z5j7qyswn4yg\">2024-10-03-Q2G08IVNETU0QO-ird-[#4257240] Admin 502s caused Records service 500s and slowness in</a> |</p>\\n<h2></h2>\\n<h2>Root Causes</h2>\\n<p><em>Include a description of any conditions that contributed to the issue. If there were any actions taken that exacerbated the issue, also include them here with the intention of learning from any mistakes made during the resolution process. Run through a “5 whys” exercise to help determine the earliest point where the issue could have been prevented.</em><br />\\nTo reduce strain on the database, Admin team recently implemented caching on a few of the endpoints. The majority of <strong>GET</strong> traffic was routed to the cache as a result of the recent adoption of this caching, which raised the stress on our cache due to which redis server load went around \\\\~100% in peak traffic. Following the recent promotion, cache utilization went up, which resulted in sporadic 502 responses. </p>\\n<h2>Contributing Factors and Lessons Learned</h2>\\n<p><em>Note any teachings uncovered while working on the incident, and create follow-up work items to prevent, detect, or mitigate the issue in the future. ex:</em></p>\\n<p>| <em>1. Code changes</em> | <em>4. Training</em> | <em>7. Resource Access setup</em> |\\n| :---- | :---- | :---- |\\n| <em>2. Automatic Alerts</em> | <em>5. Dashboard improvements</em> | <em>8. Playbook</em> |\\n| <em>3. Pipeline improvements</em> | <em>6. Process improvements</em> |  |</p>\\n<p>1) Process<br />\\n   1) Prevent auto-resolving Alert on High Cache Usage<br />\\n   2) Multi-product incident.  There were two IRDs and two Postmortems: <a href=\"https://docs.google.com/document/d/1cnyVc16le8FclkKar6-qdACqMEFvI36pr9577yUnNXM/edit\">Link</a>.  This seems like another opportunity to practice multi-product Game Day processes.<br />\\n2) Technical<br />\\n   1) Optimize cache eviction mechanism</p>\\n<h2>Follow-up Work Items</h2>\\n<p><em>Tag work items in DevOps Boards with postmortem-immediate or postmortem-future as appropriate. This will provide a way of tracking and reporting on work items.</em></p>\\n<p>| Work Item Link | Type | Urgency |\\n| :---- | :---- | :---- |\\n| <strong>CCAdmin</strong> |  |  |\\n| <a href=\"https://dev.azure.com/msi-cie/CCAdmin-V1/_workitems/edit/652723\">Optimize cache eviction mechanism</a> | prevent | immediate |\\n| <a href=\"https://dev.azure.com/msi-cie/CCAdmin-V1/_workitems/edit/652725\">Prevent auto-resolving Alert on High Cache Usage</a> | detect | immediate |\\n| <a href=\"https://dev.azure.com/msi-cie/CCAdmin-V1/_workitems/edit/653296\">Service Insight Alert</a>  | detect | immediate |\\n| <a href=\"https://dev.azure.com/msi-cie/CCAdmin-V1/_workitems/edit/653294\">Redis Alert Integration with PagerDuty</a> | detect | immediate |</p>\\n<h1>Appendices</h1>\\n<h2>Example timeline {#example-timeline}</h2>\\n<p>2022-12-28T23:44Z - Raised to CMSO - [customer name]<br />\\n2022-12-29T00:03Z - Raised to engineering<br />\\n2022-12-29T00:05Z - Acknowledged by engineering<br />\\n2022-12-29T00:15Z - Triaged to P2<br />\\n2022-12-29T00:15Z - Investigating<br />\\n2022-12-29T00:25Z - Customers notified<br />\\n2022-12-29T00:30Z - Mitigated<br />\\n2022-12-29T00:35Z - Triaged to P3<br />\\n2022-12-29T00:40Z - Customers notified<br />\\n2022-12-29T00:45Z - Restored<br />\\n2022-12-29T00:50Z - Customers notified</p>\\n<h2>Postmortem Invite Text</h2>\\n<p><strong>Invite Title</strong>: [Incident context] - [maturity] - Postmortem<br />\\nMaturity: dev, qa, stage, prod</p>\\n<p><strong>Description:</strong><br />\\nPostmortem session for incident</p>\\n<p>Engineering, please perform an in-depth investigation prior to the Postmortem meeting and document the draft root cause in the IRD. </p>\\n<p>For postmortems related to a production incident, it is <strong>mandatory</strong> to have attendance from members of <strong>PDM/PO, Engineering, TSO and Customer Comms</strong>. If you are unable to attend, please delegate to a member of your group. If no one can attend, please provide the reason and the approval from management.</p>\\n<p><strong>References:</strong><br />\\nGoogle link to Incident Response Document<br />\\n<a href=\"https://dev.azure.com/msi-cie/CIE%20Partners/_wiki/wikis/CIE-Partners.wiki/2691/Postmortems\">Postmortem documentation in CIE Partner Wiki</a>.  </p>'"
      ]
     },
     "execution_count": 3,
     "metadata": {},
     "output_type": "execute_result"
    }
   ],
   "source": [
    "with open(\"C:\\\\Users\\\\CQTF47\\\\Downloads\\\\123.md\", 'r') as f:\n",
    "    text = f.read()\n",
    "    html = markdown.markdown(text)\n",
    "\n",
    "html\n",
    "# with open('Picnic.html', 'w') as f:\n",
    "#     f.write(html)"
   ]
  },
  {
   "cell_type": "code",
   "execution_count": 8,
   "metadata": {},
   "outputs": [
    {
     "name": "stdout",
     "output_type": "stream",
     "text": [
      "Pretty printing has been turned ON\n"
     ]
    }
   ],
   "source": [
    "%pprint"
   ]
  },
  {
   "cell_type": "code",
   "execution_count": 10,
   "metadata": {},
   "outputs": [
    {
     "name": "stdout",
     "output_type": "stream",
     "text": [
      "<h1>[#4258411] Records service returns 500s when CC Admin returns 502s</h1>\n",
      "<h2>Incident State</h2>\n",
      "<h2>P1</h2>\n",
      "<p>| Incident Started* | 2024-10-03T17:10:07Z |  | \\&lt;bot-incident-started&gt; |\n",
      "| ----- | :---- | :---- | :---- |\n",
      "| <strong>Incident Acknowledged*</strong> | 2024-10-03T17:11:40Z |  | \\&lt;bot-incident-acknowledged&gt; |\n",
      "| <strong>Incident Resolved</strong> | 2024-10-03T17:50:16Z (40 minutes, 9 seconds) |  | \\&lt;bot-incident-resolved&gt; |\n",
      "| <strong>Found by*</strong> | Observability |  |  |\n",
      "| <strong>Current Status*</strong> | Restored |  | \\&lt;bot-incident-status&gt; |\n",
      "| <strong>Impact</strong> |  |  |  |\n",
      "| Customers* | All yUS Gov Prod customers |  |  |\n",
      "| Cloud Provider / Regions* | USGovVirginia Prod |  | \\&lt;bot-cloud-provider-region&gt; |\n",
      "| Products* | CC Responder, CC Admin, CC RMS, IDM, al US Gov Prod products |  |  |\n",
      "| <strong>Incident</strong> |  |  |  |\n",
      "| CC PagerDuty* | <a href=\"https://commandcentral.pagerduty.com/incidents/Q05HIEHXNLGKM6\">4258411</a> |  | \\&lt;bot-incident-link&gt; |\n",
      "|             CMSO Incident # | \\&lt;CMSO incident link if this incident was found by customer or reported by CMSO&gt; |  |  |\n",
      "| CMSO Change # | \\&lt;CMSO change # if this incident was found by customer or reported by CMSO&gt; |  |  |\n",
      "| <strong>Google Meet</strong> |  |  |  |\n",
      "| Technical Bridge* | <a href=\"https://meet.google.com/nms-vshh-ssc\">https://meet.google.com/nms-vshh-ssc</a> |  | \\&lt;bot-technical-bridge&gt; |\n",
      "| Stakeholder Bridge | \\&lt;link&gt; |  |  |\n",
      "| <strong>Chat Room Threads</strong> |  |  |  |\n",
      "| #MSI Incident Triage* | <a href=\"https://chat.google.com/room/AAAA6ygG0xw/cZqWRcDHV_E\">https://chat.google.com/room/AAAA6ygG0xw/cZqWRcDHV_E</a> |  | \\&lt;bot-msi-incident-triage&gt; |\n",
      "| #MSI Live Incident Updates | <a href=\"https://chat.google.com/room/AAAAaO9whxU/GrvNXhgRkG8\">https://chat.google.com/room/AAAAaO9whxU/GrvNXhgRkG8</a> |  | \\&lt;bot-msi-live-incident-updates&gt; |\n",
      "| <strong>Incident Leaders</strong> |  |  |  |\n",
      "| Incident Commander* | Iain Moug |  | \\&lt;bot-incident-commander&gt; |\n",
      "| Communication Leader* | Iain Moug |  | \\&lt;bot-communication-leader&gt; |\n",
      "| Customer Comms Leader |  |  | \\&lt;bot-customer-comms-leader&gt; |\n",
      "| <a href=\"https://dev.azure.com/msi-cie/CIE%20Partners/_wiki/wikis/CIE-Partners.wiki/3427/Incident-Management\"><em>Incident Management Process</em></a>             <a href=\"https://drive.google.com/drive/folders/1c93mAGBXUcwqe4ev_svnMWYUg_oH8Ay1\">ISD/Postmortem Folder</a> |  |  |  |\n",
      "| <a href=\"https://docs.google.com/document/d/17_rRBpPge3J2JvVLZ9-TTBNvlzuE3e5at2TjNXbv3-M\">IC/CL Checklist</a> |  |  |  |\n",
      "| <em>Queries pertaining to the process and this template can be posted in the <a href=\"https://mail.google.com/chat/u/0/#chat/space/AAAAw8_cRcU\">SRE Community chat room</a></em> |  |  |  |</p>\n",
      "<h2>Summary</h2>\n",
      "<p><em>This is for a short narrative of what happened, the symptoms that were discovered, and the impact of the incident.</em><br />\n",
      "Records service returns 500s when CC Admin APIs return 502s</p>\n",
      "<h2>Resolution</h2>\n",
      "<p><em>Include a description of what solved the problem. If there was a temporary fix in place, describe that along with the long-term solution.</em><br />\n",
      "No further CC Admin 502 HTTP response codes observed since \\~17:10 UTC. Resolving incident.</p>\n",
      "<p>Upgrading the redis tier on US Gov helped to reduce the server load and to resolve this issue.</p>\n",
      "<h2>Timeline</h2>\n",
      "<p><em>The timeline must be updated every 30 minutes at a minimum. Times must be entered in UTC using W3C format, ex: dd HH:mmZ. Please be descriptive, as this will help everyone understand the history of actions and the current status of the incident. <a href=\"#example-timeline\">See timeline example in appendix</a>.</em></p>\n",
      "<p>2024-10-03T17:10Z - Raised to engineering<br />\n",
      "2024-10-03T17:11Z - Acknowledged by Iain Moug<br />\n",
      "2024-10-03T17:35Z - Triaged to P1<br />\n",
      "            - IC: Iain Moug<br />\n",
      "            - CL: Iain Moug<br />\n",
      "2024-10-03T17:38Z - CC Responder was paged at 17:10 UTC and noticed that \\~18 requests for 2 real users in 2 real customers had received 500 HTTP response codes when using the CC Responder Records service. After an initial investigation, it seems that there was an Admin outage between 17:00:59 &amp; 17:04:10 UTC where CC Admin was intermittently returning 502 HTTP response codes.<br />\n",
      "2024-10-03T17:39Z - CC Responder smoke tests are now passing again as of 17:20 UTC.<br />\n",
      "2024-10-03T17:40Z - Currently running other CC Responder API tests that integrate with CC Admin now.<br />\n",
      "2024-10-03T17:44Z - This CC Admin outage also affected our service bus connection with DPE (BDP) as we use CC Admin to determine how to process service bus messages received from DPE. DPE service bus processing was affected from 17:02:00 to 17:05:10 UTC.<br />\n",
      "2024-10-03T17:46Z - As of now, it seems that this outage has resolved itself and CC Responder Records service is back to normal.<br />\n",
      "2024-10-03T17:49Z - This would have affected CC Responder Records operations; uploading a form, uploading a note and carrying out a person entity search (via DPE). This affected 18 user transactions from 2 users over 2 agencies. As well as delaying processing of DPE service bus messages which would result in a temporary slowness in users receiving messages from the CC Responder Distribution service.<br />\n",
      "2024-10-03T17:50Z - Resolved: Restored No further CC Admin 502 HTTP response codes observed since \\~17:10 UTC. Resolving incident.</p>\n",
      "<h1>Postmortem</h1>\n",
      "<h2><em>The postmortem must be drafted immediately and filled out as well as possible </em><em>within 24 hours</em><em> of the incident resolving. The public RCA must be fully completed and the corresponding action items must be created within </em><em>72 hours</em><em>.</em></h2>\n",
      "<p>| Meeting Information |  |\n",
      "| :---- | :---- |\n",
      "| <strong>Meeting Date*</strong> | 2024-10-07T15:00:00Z |\n",
      "| <strong>Organizer*</strong> | <a href=\"mailto:prakash.satyani@motorolasolutions.com\">Prakash Satyani</a> |\n",
      "| <strong>Meeting*</strong> | <a href=\"https://meet.google.com/iuc-kgkx-cuc\">https://meet.google.com/iuc-kgkx-cuc</a>  |</p>\n",
      "<p>| Incident Recurrence |  |\n",
      "| :---- | :---- |\n",
      "| <strong>Potential to Reoccur?</strong> |  |\n",
      "| <strong>Previous IRDs</strong> | <a href=\"https://docs.google.com/document/d/1HkWHxggOENQ5s5yw8N2gj1e3mjdNPFfWye2GibwhyxM/edit#heading=h.z5j7qyswn4yg\">2024-10-03-Q2G08IVNETU0QO-ird-[#4257240] Admin 502s caused Records service 500s and slowness in</a> |</p>\n",
      "<h2></h2>\n",
      "<h2>Root Causes</h2>\n",
      "<p><em>Include a description of any conditions that contributed to the issue. If there were any actions taken that exacerbated the issue, also include them here with the intention of learning from any mistakes made during the resolution process. Run through a “5 whys” exercise to help determine the earliest point where the issue could have been prevented.</em><br />\n",
      "To reduce strain on the database, Admin team recently implemented caching on a few of the endpoints. The majority of <strong>GET</strong> traffic was routed to the cache as a result of the recent adoption of this caching, which raised the stress on our cache due to which redis server load went around \\~100% in peak traffic. Following the recent promotion, cache utilization went up, which resulted in sporadic 502 responses. </p>\n",
      "<h2>Contributing Factors and Lessons Learned</h2>\n",
      "<p><em>Note any teachings uncovered while working on the incident, and create follow-up work items to prevent, detect, or mitigate the issue in the future. ex:</em></p>\n",
      "<p>| <em>1. Code changes</em> | <em>4. Training</em> | <em>7. Resource Access setup</em> |\n",
      "| :---- | :---- | :---- |\n",
      "| <em>2. Automatic Alerts</em> | <em>5. Dashboard improvements</em> | <em>8. Playbook</em> |\n",
      "| <em>3. Pipeline improvements</em> | <em>6. Process improvements</em> |  |</p>\n",
      "<p>1) Process<br />\n",
      "   1) Prevent auto-resolving Alert on High Cache Usage<br />\n",
      "   2) Multi-product incident.  There were two IRDs and two Postmortems: <a href=\"https://docs.google.com/document/d/1cnyVc16le8FclkKar6-qdACqMEFvI36pr9577yUnNXM/edit\">Link</a>.  This seems like another opportunity to practice multi-product Game Day processes.<br />\n",
      "2) Technical<br />\n",
      "   1) Optimize cache eviction mechanism</p>\n",
      "<h2>Follow-up Work Items</h2>\n",
      "<p><em>Tag work items in DevOps Boards with postmortem-immediate or postmortem-future as appropriate. This will provide a way of tracking and reporting on work items.</em></p>\n",
      "<p>| Work Item Link | Type | Urgency |\n",
      "| :---- | :---- | :---- |\n",
      "| <strong>CCAdmin</strong> |  |  |\n",
      "| <a href=\"https://dev.azure.com/msi-cie/CCAdmin-V1/_workitems/edit/652723\">Optimize cache eviction mechanism</a> | prevent | immediate |\n",
      "| <a href=\"https://dev.azure.com/msi-cie/CCAdmin-V1/_workitems/edit/652725\">Prevent auto-resolving Alert on High Cache Usage</a> | detect | immediate |\n",
      "| <a href=\"https://dev.azure.com/msi-cie/CCAdmin-V1/_workitems/edit/653296\">Service Insight Alert</a>  | detect | immediate |\n",
      "| <a href=\"https://dev.azure.com/msi-cie/CCAdmin-V1/_workitems/edit/653294\">Redis Alert Integration with PagerDuty</a> | detect | immediate |</p>\n",
      "<h1>Appendices</h1>\n",
      "<h2>Example timeline {#example-timeline}</h2>\n",
      "<p>2022-12-28T23:44Z - Raised to CMSO - [customer name]<br />\n",
      "2022-12-29T00:03Z - Raised to engineering<br />\n",
      "2022-12-29T00:05Z - Acknowledged by engineering<br />\n",
      "2022-12-29T00:15Z - Triaged to P2<br />\n",
      "2022-12-29T00:15Z - Investigating<br />\n",
      "2022-12-29T00:25Z - Customers notified<br />\n",
      "2022-12-29T00:30Z - Mitigated<br />\n",
      "2022-12-29T00:35Z - Triaged to P3<br />\n",
      "2022-12-29T00:40Z - Customers notified<br />\n",
      "2022-12-29T00:45Z - Restored<br />\n",
      "2022-12-29T00:50Z - Customers notified</p>\n",
      "<h2>Postmortem Invite Text</h2>\n",
      "<p><strong>Invite Title</strong>: [Incident context] - [maturity] - Postmortem<br />\n",
      "Maturity: dev, qa, stage, prod</p>\n",
      "<p><strong>Description:</strong><br />\n",
      "Postmortem session for incident</p>\n",
      "<p>Engineering, please perform an in-depth investigation prior to the Postmortem meeting and document the draft root cause in the IRD. </p>\n",
      "<p>For postmortems related to a production incident, it is <strong>mandatory</strong> to have attendance from members of <strong>PDM/PO, Engineering, TSO and Customer Comms</strong>. If you are unable to attend, please delegate to a member of your group. If no one can attend, please provide the reason and the approval from management.</p>\n",
      "<p><strong>References:</strong><br />\n",
      "Google link to Incident Response Document<br />\n",
      "<a href=\"https://dev.azure.com/msi-cie/CIE%20Partners/_wiki/wikis/CIE-Partners.wiki/2691/Postmortems\">Postmortem documentation in CIE Partner Wiki</a>.  </p>\n"
     ]
    }
   ],
   "source": [
    "print(html)"
   ]
  },
  {
   "cell_type": "code",
   "execution_count": null,
   "metadata": {},
   "outputs": [],
   "source": []
  }
 ],
 "metadata": {
  "kernelspec": {
   "display_name": "unstructured_env",
   "language": "python",
   "name": "python3"
  },
  "language_info": {
   "codemirror_mode": {
    "name": "ipython",
    "version": 3
   },
   "file_extension": ".py",
   "mimetype": "text/x-python",
   "name": "python",
   "nbconvert_exporter": "python",
   "pygments_lexer": "ipython3",
   "version": "3.10.14"
  }
 },
 "nbformat": 4,
 "nbformat_minor": 2
}
