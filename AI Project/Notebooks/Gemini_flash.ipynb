{
 "cells": [
  {
   "cell_type": "code",
   "execution_count": null,
   "metadata": {},
   "outputs": [],
   "source": [
    "import os\n",
    "import json\n",
    "from ast import literal_eval\n",
    "import time\n",
    "import csv\n",
    "import pandas as pd\n",
    "import argparse\n",
    "import vertexai\n",
    "from vertexai.generative_models import (\n",
    "    GenerationConfig,\n",
    "    GenerativeModel,\n",
    ")\n",
    "\n",
    "# Initialize Google Application Credentials and Vertex AI environment\n",
    "def init_vertex_ai(project_id, location, credentials_path):\n",
    "    os.environ[\"GOOGLE_APPLICATION_CREDENTIALS\"] = credentials_path\n",
    "    vertexai.init(project=project_id, location=location)\n",
    "\n",
    "# Create a function to load a document and format the prompt\n",
    "def load_and_format_prompt(file_path, question):\n",
    "    with open(file_path,'r', encoding='utf-8') as file:\n",
    "        document_content = file.read()\n",
    "    prompt_template = f''' Given the financial information like the income statement, balance sheet, and cash flow statement and trends of stock price of the company: {document_content}. \n",
    "            answer the following questions: {question}\n",
    "\t\t\tAnswer:\n",
    "            '''\n",
    "    return prompt_template\n",
    "\n",
    "# Function to initialize the model with system instructions\n",
    "def create_model(model_id):\n",
    "    model = GenerativeModel(\n",
    "        model_id,\n",
    "        system_instruction=[\n",
    "            \"You are good at understanding content in the financial documents and extracting the income statement, balance sheet, and cash flow statement from the document.\",  \n",
    "\t\t\t\"You ar good at capturing the trends of stock price of the company from the given histrical stock price.\", \n",
    "                    ],\n",
    "    )\n",
    "    return model\n",
    "\n",
    "# Function to generate response\n",
    "def generate_response(model, prompt, temperature=0.9, top_p=1.0, top_k=32, max_output_tokens=8192):\n",
    "    generation_config = GenerationConfig(\n",
    "        temperature=temperature,\n",
    "        top_p=top_p,\n",
    "        top_k=top_k,\n",
    "        candidate_count=1,\n",
    "        max_output_tokens=max_output_tokens,\n",
    "    )\n",
    "    \n",
    "    contents = [prompt]\n",
    "    response = model.generate_content(\n",
    "        contents,\n",
    "        generation_config=generation_config\n",
    "    )\n",
    "    return response\n",
    "\n",
    "\n",
    "def save_response_to_file(response, output_path):\n",
    "\tprint(response)\n",
    "\tresponse_json = json.loads(response)\n",
    "\twith open(output_path, 'w', encoding='utf-8') as output_file:\n",
    "\t\t# output_file.write(response)\n",
    "\t\tjson.dump(response_json, output_file, indent=4)\n",
    "\n",
    "\n",
    "def process_document(file_path, model_id, project_id, location, credentials_path, output_folder):\n",
    "\n",
    "\tinit_vertex_ai(project_id, location, credentials_path)\n",
    "\n",
    "\tmodel = create_model(model_id)\n",
    "\n",
    "\tprompt = load_and_format_prompt(file_path)\n",
    "\n",
    "\tresponse = generate_response(model, prompt)\n",
    "\t# print(response.text)\n",
    "\n",
    "\t# print((response.text[8:-4]))\n",
    "\n",
    "\toutput_file_name = os.path.splitext(os.path.basename(file_path))[0] + \"_response.json\"\n",
    "\toutput_file_path = os.path.join(output_folder, output_file_name)\n",
    "\n",
    "\tsave_response_to_file(response.text[8:-4], output_file_path)\n",
    "\tprint(f\"Response saved to {output_file_path}\")\n",
    "     \n",
    "\n",
    "def process_folder(folder_path, model_id, project_id, location, credentials_path, output_folder, output_csv):\n",
    "\tif not os.path.exists(output_folder):\n",
    "\t\tos.makedirs(output_folder)\n",
    "\t\n",
    "\tstart_time = time.time()\n",
    "\tprint('start time:', start_time )\n",
    "\n",
    "\tfor file_name in os.listdir(folder_path):\n",
    "\t\tif file_name.endswith('.txt'):  # Only process .txt files\n",
    "\t\t\tfile_path = os.path.join(folder_path, file_name)\n",
    "\t\t\tprint(f\"Processing file: {file_path}\")\n",
    "\t\t\tprocess_document(file_path, model_id, project_id, location, credentials_path, output_folder)\n",
    "\t\tcontinue\n",
    "\tprint(\"Finished processing all files.\")\n",
    "\tprint(time.time()-start_time)\n",
    "\n",
    "# def json_to_csv(output_folder, output_csv):\n",
    "\tall_keys = set()\n",
    "\n",
    "\tdata_rows = []\n",
    "\n",
    "\tfor file_name in os.listdir(output_folder):\n",
    "\t\tif file_name.endswith('.json'):\n",
    "\t\t\tfile_path = os.path.join(output_folder, file_name)\n",
    "\n",
    "\t\t\twith open(file_path, 'r', encoding='utf-8') as json_file:\n",
    "\t\t\t\tdata = json.load(json_file)\n",
    "\n",
    "\t\t\t\t# Add the keys to the header list\n",
    "\t\t\t\tall_keys.update(data.keys())\n",
    "\t\t\t\t\n",
    "\t\t\t\t# Add the row (values) to the data list\n",
    "\t\t\t\tdata_rows.append(data)\n",
    "\n",
    "\twith open(output_csv, 'w', newline='', encoding='utf-8') as csv_file:\n",
    "\t\twriter = csv.DictWriter(csv_file, fieldnames=sorted(all_keys))\n",
    "\t\twriter.writeheader()\n",
    "\n",
    "\t\tfor row in data_rows:\n",
    "\t\t\twriter.writerow(row)\n",
    "\n",
    "\tprint(f\"CSV file '{output_csv}' created successfully.\")\n",
    "\n",
    "## Driver Code\n",
    "\n",
    "\n",
    "parser = argparse.ArgumentParser()\n",
    "    \n",
    "parser.add_argument('folder_path', type=str, help='Path to the input CSV file containing the DataFrame.')\n",
    "parser.add_argument('output_folder', type=str, help='The name of the column to be updated.')\n",
    "parser.add_argument('output_csv', type=str, help='Path to save the updated CSV file.')\n",
    "args = parser.parse_args()\n",
    "\n",
    "# folder_path = \"text_files\"\n",
    "# output_folder = \"output_folder_post_occur_correction2\"\n",
    "# output_csv = \"preds_3.csv\"\n",
    "process_folder(\n",
    "    folder_path=args.folder_path,\n",
    "    model_id=\"gemini-1.5-flash-001\", \n",
    "    project_id=\"msi-genai-frontdoor-499476\", \n",
    "    location=\"us-east1\", \n",
    "    credentials_path=\"C:\\\\Users\\\\CQTF47\\\\Downloads\\\\Dipjyoti RAG POC\\\\devtest-sa.json\",\n",
    "    output_folder=args.output_folder,\n",
    "\toutput_csv=args.output_csv\n",
    ")\n",
    "# json_to_csv(output_folder, output_csv)\n",
    "\n",
    "\n"
   ]
  },
  {
   "cell_type": "code",
   "execution_count": 10,
   "metadata": {
    "vscode": {
     "languageId": "coffeescript"
    }
   },
   "outputs": [],
   "source": [
    "import requests\n",
    "import json\n",
    "\n",
    "url = \"https://genai-service.stage.commandcentral.com/app-gateway/api/v2/chat\"\n",
    "headers = {\n",
    "    \"x-msi-genai-api-key\":  \"m,(w(7-CzS-kbVY8u3AF.JYeAG-7PLyuyP6.x@zj\", #\"LSgoaIy~a3gL9aJR7C.gU!5q~LNOR9WmVpNj99xy\", \n",
    "    \"Content-Type\": \"application/json\",\n",
    "    # \"X-msi-genai-client\": \"<some-unique-app-identifier>\"\n",
    "}\n",
    "data = {\n",
    "    \"userId\": \"cqtf47@motorolasolutions.com\",\n",
    "    \"model\": \"VertexGemini\",\n",
    "    \"prompt\": \"Who plays the best piano?\",\n",
    "    # \"sessionId\": \"c2e07ae5-4d6b-48e6-b035-6a8aefb57321\",\n",
    "    \"datastoreId\":  \"362a5d9c-65f8-43df-a751-2057708501ca\" #\"0f45024e-3c7a-4b18-a2fa-c0af896f5ff7\",\n",
    "    # \"modelConfig\": {\n",
    "    #     \"temperature\": 0.5,\n",
    "    #     \"max_tokens\": 800,\n",
    "    #     \"top_p\": 2,\n",
    "    #     \"frequency_penalty\": 0,\n",
    "    #     \"presence_penalty\": 0\n",
    "    # }\n",
    "}\n",
    "\n",
    "response = requests.post(url, headers=headers, json=data)\n",
    "# print(response.json())"
   ]
  },
  {
   "cell_type": "code",
   "execution_count": 16,
   "metadata": {},
   "outputs": [
    {
     "name": "stdout",
     "output_type": "stream",
     "text": [
      "<Response [200]>\n"
     ]
    }
   ],
   "source": [
    "import requests\n",
    "import json\n",
    "\n",
    "url = \"https://genai-service.stage.commandcentral.com/app-gateway/api/v2/chat\"\n",
    "headers = {\n",
    "    \"x-msi-genai-api-key\":  \"m,(w(7-CzS-kbVY8u3AF.JYeAG-7PLyuyP6.x@zj\", #\"LSgoaIy~a3gL9aJR7C.gU!5q~LNOR9WmVpNj99xy\", \n",
    "    \"Content-Type\": \"application/json\",\n",
    "    # \"X-msi-genai-client\": \"<some-unique-app-identifier>\"\n",
    "}\n",
    "data = {\n",
    "    \"userId\": \"cqtf47@motorolasolutions.com\",\n",
    "    \"model\": \"VertexGemini\",\n",
    "    \"prompt\": \"Looking at the financial documents of adidas in the datastore. Explain the company's financial health and future prospects?\",\n",
    "    # \"sessionId\": \"c2e07ae5-4d6b-48e6-b035-6a8aefb57321\",\n",
    "    \"datastoreId\":  \"362a5d9c-65f8-43df-a751-2057708501ca\" #\"0f45024e-3c7a-4b18-a2fa-c0af896f5ff7\",\n",
    "    # \"modelConfig\": {\n",
    "    #     \"temperature\": 0.5,\n",
    "    #     \"max_tokens\": 800,\n",
    "    #     \"top_p\": 2,\n",
    "    #     \"frequency_penalty\": 0,\n",
    "    #     \"presence_penalty\": 0\n",
    "    # }\n",
    "}\n",
    "\n",
    "response = requests.post(url, headers=headers, json=data)\n",
    "print(response)"
   ]
  },
  {
   "cell_type": "code",
   "execution_count": 18,
   "metadata": {},
   "outputs": [
    {
     "data": {
      "text/plain": [
       "{'status': True,\n",
       " 'success': True,\n",
       " 'sessionId': 'ba813ffb-bde4-45ac-a364-d16c05ea6441',\n",
       " 'sessionTitle': 'Looking at the financial documents',\n",
       " 'msg': \"The financial health of adidas in 2023 was significantly impacted by the war in Ukraine, which affected the company's supply chain and retail operations. However, adidas still managed to record a modest revenue increase, reaching €21,457 million in 2023, compared to €18,488 million in 2022.\\n\\nDespite the challenging environment, adidas generated a positive gross margin but its gross profit margin decreased 2.7 percentage points to 47.8% in 2023, primarily due to the higher percentage of sales in the lower-margin  direct-to-consumer (DTC) channel and increased sales allowances.\\n\\nThe company is focused on optimizing inventory levels and cost management, which are key areas of focus for improving future profitability. However, adidas' net income from continuing operations was a loss of €254 million in 2023, a significant decline from €1,492 million in 2022. \\n\\nThe sale of Reebok in early 2022 resulted in a net gain of €644 million.\\n\\nOverall, adidas' 2023 financial performance was a mixed bag. The company faced significant challenges, including the ongoing war in Ukraine, rising inflation, and supply chain disruptions. However, it also made progress in its transformation to a more direct-to-consumer (DTC) business model and continues to invest in its brand and product innovation. \\n\\nMoving forward, adidas will need to continue to navigate these challenges, but it is well-positioned for long-term success.  \\n\\nHere are some key aspects that may influence the company's future prospects:\\n\\n* **Strong brand:** adidas remains one of the world's leading sports brands, with a strong reputation for quality and innovation. \\n* **E-commerce growth:** adidas has made significant investments in its e-commerce capabilities and is seeing strong growth in this channel. \\n* **Focus on sustainable materials and processes:** adidas is committed to reducing its environmental impact and using more sustainable materials in its products. \\n* **Commitment to diversity, equity, and inclusion:** adidas is actively working to create a more diverse and inclusive workplace. \\n\\nOverall, adidas has the potential to continue to grow and be a profitable company in the years to come. However, it will need to continue to adapt its strategy and operations in response to the evolving economic and geopolitical environment. \\n\",\n",
       " 'data': {'userId': 'cqtf47@motorolasolutions.com',\n",
       "  'model': 'VertexGemini',\n",
       "  'datastoreId': '362a5d9c-65f8-43df-a751-2057708501ca'},\n",
       " 'valid_response': True,\n",
       " 'initialPrompt': True,\n",
       " 'args': {'model': 'gemini-1.5-flash-001',\n",
       "  'response_type': 'text',\n",
       "  'transaction_id': 'ee53402e-f4ca-4e4d-9720-663ef7e51a8c'}}"
      ]
     },
     "execution_count": 18,
     "metadata": {},
     "output_type": "execute_result"
    }
   ],
   "source": [
    "response.json()"
   ]
  },
  {
   "cell_type": "code",
   "execution_count": 19,
   "metadata": {},
   "outputs": [
    {
     "name": "stdout",
     "output_type": "stream",
     "text": [
      "{'status': True, 'success': True, 'sessionId': '5e7ae76b-7f1b-4cdd-b915-65bed91a5346', 'sessionTitle': 'Looking at the financial documents', 'msg': \"I can't answer that question. While I have access to the financial statements for adidas in 2020, 2021, and 2022, I don't have any data to project those figures for 2024.  I'm limited to the data I've been trained on. \\n\", 'data': {'userId': 'cqtf47@motorolasolutions.com', 'model': 'VertexGemini', 'datastoreId': '362a5d9c-65f8-43df-a751-2057708501ca'}, 'valid_response': True, 'initialPrompt': True, 'args': {'model': 'gemini-1.5-flash-001', 'response_type': 'text', 'transaction_id': 'd988160c-f088-4a87-9909-ce051edf6c0e'}}\n"
     ]
    }
   ],
   "source": [
    "import requests\n",
    "import json\n",
    "\n",
    "url = \"https://genai-service.stage.commandcentral.com/app-gateway/api/v2/chat\"\n",
    "headers = {\n",
    "    \"x-msi-genai-api-key\":  \"m,(w(7-CzS-kbVY8u3AF.JYeAG-7PLyuyP6.x@zj\", #\"LSgoaIy~a3gL9aJR7C.gU!5q~LNOR9WmVpNj99xy\", \n",
    "    \"Content-Type\": \"application/json\",\n",
    "    # \"X-msi-genai-client\": \"<some-unique-app-identifier>\"\n",
    "}\n",
    "data = {\n",
    "    \"userId\": \"cqtf47@motorolasolutions.com\",\n",
    "    \"model\": \"VertexGemini\",\n",
    "    \"prompt\": \"Looking at the financial documents of adidas in the datastore. Project the net revenue and gross profit and EBITDA in 2024.\",\n",
    "    # \"sessionId\": \"c2e07ae5-4d6b-48e6-b035-6a8aefb57321\",\n",
    "    \"datastoreId\":  \"362a5d9c-65f8-43df-a751-2057708501ca\" #\"0f45024e-3c7a-4b18-a2fa-c0af896f5ff7\",\n",
    "    # \"modelConfig\": {\n",
    "    #     \"temperature\": 0.5,\n",
    "    #     \"max_tokens\": 800,\n",
    "    #     \"top_p\": 2,\n",
    "    #     \"frequency_penalty\": 0,\n",
    "    #     \"presence_penalty\": 0\n",
    "    # }\n",
    "}\n",
    "\n",
    "response = requests.post(url, headers=headers, json=data)\n",
    "print(response.json())"
   ]
  },
  {
   "cell_type": "code",
   "execution_count": 1,
   "metadata": {},
   "outputs": [
    {
     "name": "stdout",
     "output_type": "stream",
     "text": [
      "{'status': True, 'success': True, 'sessionId': '9526739a-4dc4-4712-ae43-617dcc6bf737', 'sessionTitle': 'Looking at the financial documents', 'msg': \"The financial documents for adidas in the datastore show net revenue, gross profit, and EBITDA for 2020, 2021, and 2022.  To project these figures for 2023, we can use trend analysis, regression, or other forecasting methods, taking into consideration the current economic climate and industry trends. Here's how we can do it:\\n\\n**1. Trend Analysis:**\\n\\n* **Net Revenue:** The net revenue of adidas has shown a consistent growth trend over the past few years. It increased from €18,463 million in 2019 to €19,844 million in 2020, €21,234 million in 2021, and €22,511 million in 2022. This suggests a positive trend.\\n* **Gross Profit:** Similarly, gross profit has been steadily increasing over the same period, from €10,644 million in 2020 to €11,766 million in 2021, and €12,457 million in 2022.\\n* **EBITDA:** EBITDA has also shown growth, increasing from €1,574 million in 2020 to €2,097 million in 2021, and €1,874 million in 2022. \\n\\n**2. Regression Analysis:**\\n\\n* By performing a regression analysis on the historical data, we can develop a model to predict future values. We would need to choose the appropriate regression model based on the relationship between the variables (time and the financial metric).\\n\\n**3. Forecasting Methods:**\\n\\n* Various forecasting methods, such as moving averages or exponential smoothing, can be applied to project the financial metrics. These methods leverage the past data to forecast future values.\\n\\n**4. External Factors:**\\n\\n* It is crucial to consider external factors that might influence adidas's performance in 2023, such as:\\n    * **Global Economic Conditions:** The overall health of the global economy will influence consumer spending and adidas's sales.\\n    * **Geopolitical Tensions:** Conflicts and instability can impact supply chains and consumer sentiment.\\n    * **Industry Trends:** Shifts in consumer preferences and the competitive landscape within the sporting goods industry will play a role.\\n    * **Currency Fluctuations:** Exchange rate changes can impact adidas's revenues and profitability.\\n\\n**Projection for 2023:**\\n\\n* Based on the positive trend in net revenue, gross profit, and EBITDA observed in recent years, and considering the expected recovery in the sporting goods industry and global economic growth, we can project a moderate increase in these metrics for 2023.\\n\\n**Estimated Projections (for 2023):**\\n\\n* **Net Revenue:** €23,000 - €24,000 million.\\n* **Gross Profit:** €13,000 - €14,000 million.\\n* **EBITDA:** €2,000 - €2,200 million.\\n\\n**Important Note:** These projections are estimates based on the available historical data and are subject to various uncertainties. The actual results for 2023 might deviate from these projections due to unforeseen external factors.\\n\", 'data': {'userId': 'cqtf47@motorolasolutions.com', 'model': 'VertexGemini', 'datastoreId': '362a5d9c-65f8-43df-a751-2057708501ca'}, 'valid_response': True, 'initialPrompt': True, 'args': {'model': 'gemini-1.5-flash-001', 'response_type': 'text', 'transaction_id': 'c9e915d0-a2f1-4d26-b179-b39a41dfac74'}}\n"
     ]
    }
   ],
   "source": [
    "import requests\n",
    "import json\n",
    "\n",
    "url = \"https://genai-service.stage.commandcentral.com/app-gateway/api/v2/chat\"\n",
    "headers = {\n",
    "    \"x-msi-genai-api-key\":  \"m,(w(7-CzS-kbVY8u3AF.JYeAG-7PLyuyP6.x@zj\", #\"LSgoaIy~a3gL9aJR7C.gU!5q~LNOR9WmVpNj99xy\", \n",
    "    \"Content-Type\": \"application/json\",\n",
    "    # \"X-msi-genai-client\": \"<some-unique-app-identifier>\"\n",
    "}\n",
    "data = {\n",
    "    \"userId\": \"cqtf47@motorolasolutions.com\",\n",
    "    \"model\": \"VertexGemini\",\n",
    "    \"prompt\": \"Looking at the financial documents of adidas in the datastore. Try to Project the net revenue and gross profit and EBITDA in 2023.\",\n",
    "    # \"sessionId\": \"c2e07ae5-4d6b-48e6-b035-6a8aefb57321\",\n",
    "    \"datastoreId\":  \"362a5d9c-65f8-43df-a751-2057708501ca\" #\"0f45024e-3c7a-4b18-a2fa-c0af896f5ff7\",\n",
    "    # \"modelConfig\": {\n",
    "    #     \"temperature\": 0.5,\n",
    "    #     \"max_tokens\": 800,\n",
    "    #     \"top_p\": 2,\n",
    "    #     \"frequency_penalty\": 0,\n",
    "    #     \"presence_penalty\": 0\n",
    "    # }\n",
    "}\n",
    "\n",
    "response = requests.post(url, headers=headers, json=data)\n",
    "print(response.json())"
   ]
  },
  {
   "cell_type": "code",
   "execution_count": 2,
   "metadata": {},
   "outputs": [
    {
     "name": "stdout",
     "output_type": "stream",
     "text": [
      "{'status': True, 'success': True, 'sessionId': 'a02593dd-3b37-4831-b5d1-ad33f5867e90', 'sessionTitle': 'Looking at the financial documents', 'msg': 'Unfortunately, I can\\'t give financial advice or project future stock prices.  That said, let\\'s look at the data we have to see what we can learn:\\n\\n* **Stock Data Trends:** The historical data in \"ADSGn Historical Data.csv\" shows a lot of volatility in the price of adidas stock, with both significant gains and losses. There\\'s no clear, consistent upward or downward trend, which is typical for stocks.\\n* **Factors Affecting Prices:** Stock prices are influenced by a wide range of things:\\n    * **Company Performance:** Adidas\\'s financial performance is a major driver. This data is in the Annual Report, where you\\'ll find information on revenues, profits, and other key metrics.\\n    * **Economic Conditions:** The overall health of the economy, interest rates, and consumer spending affect demand for athletic goods, influencing the stock.\\n    * **Industry Trends:** Changes in fashion trends, competition, and the adoption of new technologies all impact the sports industry.\\n    * **Global Events:** Major sporting events, like the Olympics or the FIFA World Cup, can create a surge in demand.\\n    * **Investor Sentiment:**  How optimistic or pessimistic investors are about adidas\\'s future affects buying and selling decisions.\\n\\n**How to Get a Sense of Potential Highs and Lows**\\n\\n1. **Look for Historical Patterns:** Examine the \"ADSGn Historical Data.csv\" for similar periods (like September or October in previous years) to see how the stock has behaved.  Look for the range of daily highs and lows during these months.\\n2. **Analyze the Annual Report:**  The \"OTC_ADDDF_2020.pdf,\" \"OTC_ADDDF_2021.pdf,\" and \"OTC_ADDDF_2022.pdf\" documents provide a lot of context. The company\\'s financial performance, strategies, and outlook give you a better picture of what might influence the stock in the future.  \\n3. **Consider Current Events:**  News about adidas\\'s products, sponsorships, or financial performance could have an immediate impact on the stock.\\n\\n**Important Note:** Even with this information, predicting future stock highs and lows is very difficult and risky.  Always do your own research and consult with a qualified financial advisor before making any investment decisions. \\n', 'data': {'userId': 'cqtf47@motorolasolutions.com', 'model': 'VertexGemini', 'datastoreId': '362a5d9c-65f8-43df-a751-2057708501ca'}, 'valid_response': True, 'initialPrompt': True, 'args': {'model': 'gemini-1.5-flash-001', 'response_type': 'text', 'transaction_id': '724a1472-3b09-47eb-9418-9782591bc94f'}}\n"
     ]
    }
   ],
   "source": [
    "import requests\n",
    "import json\n",
    "\n",
    "url = \"https://genai-service.stage.commandcentral.com/app-gateway/api/v2/chat\"\n",
    "headers = {\n",
    "    \"x-msi-genai-api-key\":  \"m,(w(7-CzS-kbVY8u3AF.JYeAG-7PLyuyP6.x@zj\", #\"LSgoaIy~a3gL9aJR7C.gU!5q~LNOR9WmVpNj99xy\", \n",
    "    \"Content-Type\": \"application/json\",\n",
    "    # \"X-msi-genai-client\": \"<some-unique-app-identifier>\"\n",
    "}\n",
    "data = {\n",
    "    \"userId\": \"cqtf47@motorolasolutions.com\",\n",
    "    \"model\": \"VertexGemini\",\n",
    "    \"prompt\": \"Looking at the financial documents and the stock price data of adidas in the datastore. Try to Project the stocks days high and low on 14/October/2024.\",\n",
    "    # \"sessionId\": \"c2e07ae5-4d6b-48e6-b035-6a8aefb57321\",\n",
    "    \"datastoreId\":  \"362a5d9c-65f8-43df-a751-2057708501ca\" #\"0f45024e-3c7a-4b18-a2fa-c0af896f5ff7\",\n",
    "    # \"modelConfig\": {\n",
    "    #     \"temperature\": 0.5,\n",
    "    #     \"max_tokens\": 800,\n",
    "    #     \"top_p\": 2,\n",
    "    #     \"frequency_penalty\": 0,\n",
    "    #     \"presence_penalty\": 0\n",
    "    # }\n",
    "}\n",
    "\n",
    "response = requests.post(url, headers=headers, json=data)\n",
    "print(response.json())"
   ]
  },
  {
   "cell_type": "code",
   "execution_count": 4,
   "metadata": {},
   "outputs": [
    {
     "name": "stdout",
     "output_type": "stream",
     "text": [
      "{'status': True, 'success': True, 'sessionId': '9a1ec24c-750d-4c9e-8e26-64ac940678ad', 'sessionTitle': \"Let's carefully analyze the stock\", 'msg': \"It's not possible to predict future stock prices with certainty, even with historical data and time series analysis.  \\n\\nHere's why:\\n\\n* **Market Volatility:** Stock prices are influenced by a multitude of factors, including investor sentiment, economic conditions, global events, and company news. These factors are inherently unpredictable and can shift quickly.\\n* **Limited Data:** The provided dataset only covers a short time period (approximately one year). This is not enough to establish robust trends and seasonal patterns, especially considering that the data may be affected by unusual market conditions in 2024.\\n* **External Factors:** Time series analysis often assumes that historical patterns will continue. However, major events or company news (like a new product launch or significant financial announcement) can completely disrupt these patterns.\\n\\n**Instead of providing a specific prediction, let's discuss how we would approach this task if we had more data and resources:**\\n\\n1. **Visual Analysis:** Create line graphs and other visualizations to examine the stock price history, paying attention to highs, lows, and daily changes.\\n2. **Trend Identification:** Look for trends such as uptrends, downtrends, and sideways movements.\\n3. **Seasonality:**  Determine if there are any recurring patterns in the stock's behavior during specific days of the week, months, or periods like the holiday season.\\n4. **External Factors:**  Research any relevant company news, financial reports, industry trends, and macroeconomic indicators that might have impacted Adidas's stock price in the past.\\n5. **Time Series Modeling:**  Select an appropriate time series model (e.g., ARIMA, LSTM) to forecast the stock price based on the identified trends, seasonality, and potential external influences. Remember, this is a complex process that requires expertise in time series analysis. \\n6. **Backtesting:**  Validate the model's accuracy by comparing its predictions with actual historical data. This step helps determine if the model can reliably forecast future stock prices.\\n\\n**Important Note:**  Predicting future stock prices is a complex endeavor, and no method can guarantee accuracy. Always conduct thorough research, consult with financial professionals, and use caution when making investment decisions. \\n\", 'data': {'userId': 'cqtf47@motorolasolutions.com', 'model': 'VertexGemini', 'datastoreId': '362a5d9c-65f8-43df-a751-2057708501ca'}, 'valid_response': True, 'initialPrompt': True, 'args': {'model': 'gemini-1.5-flash-001', 'response_type': 'text', 'transaction_id': '1bb9bfe9-4b2a-4fb3-94be-b89c6de48d89'}}\n"
     ]
    }
   ],
   "source": [
    "import requests\n",
    "import json\n",
    "\n",
    "url = \"https://genai-service.stage.commandcentral.com/app-gateway/api/v2/chat\"\n",
    "headers = {\n",
    "    \"x-msi-genai-api-key\":  \"m,(w(7-CzS-kbVY8u3AF.JYeAG-7PLyuyP6.x@zj\", #\"LSgoaIy~a3gL9aJR7C.gU!5q~LNOR9WmVpNj99xy\", \n",
    "    \"Content-Type\": \"application/json\",\n",
    "    # \"X-msi-genai-client\": \"<some-unique-app-identifier>\"\n",
    "}\n",
    "data = {\n",
    "    \"userId\": \"cqtf47@motorolasolutions.com\",\n",
    "    \"model\": \"VertexGemini\",\n",
    "    \"prompt\": \"Let's carefully analyze the stock price data for Adidas stored in the datastore. First, we will review the historical patterns in the stock prices over the past months, paying close attention to the trends in daily highs and lows. Next, we will focus on any recurring patterns or seasonality in the data, such as whether the stock tends to rise or fall on certain days or months. We'll also consider external factors like market conditions or company-specific news that might influence the stock price around this time. Finally, based on these insights, we will apply time series analysis to predict the stock's high and low for 14th October 2024. What are the predicted high and low values for the stock on this date?\",\n",
    "    # \"sessionId\": \"c2e07ae5-4d6b-48e6-b035-6a8aefb57321\",\n",
    "    \"datastoreId\":  \"362a5d9c-65f8-43df-a751-2057708501ca\" #\"0f45024e-3c7a-4b18-a2fa-c0af896f5ff7\",\n",
    "    # \"modelConfig\": {\n",
    "    #     \"temperature\": 0.5,\n",
    "    #     \"max_tokens\": 800,\n",
    "    #     \"top_p\": 2,\n",
    "    #     \"frequency_penalty\": 0,\n",
    "    #     \"presence_penalty\": 0\n",
    "    # }\n",
    "}\n",
    "\n",
    "response = requests.post(url, headers=headers, json=data)\n",
    "print(response.json())"
   ]
  },
  {
   "cell_type": "code",
   "execution_count": 5,
   "metadata": {},
   "outputs": [
    {
     "name": "stdout",
     "output_type": "stream",
     "text": [
      "{'status': True, 'success': True, 'sessionId': 'ff6bae3c-5a24-4500-a45e-5774771efddc', 'sessionTitle': 'Given the historical stock price', 'msg': 'Unfortunately, I can\\'t directly access or analyze files from your computer, including the \"ADSGn Historical Data.csv\" file. This means I can\\'t perform time series analysis on the Adidas stock data you provided to forecast the high and low prices for October 14th, 2024.\\n\\nHowever, I can explain how time series analysis techniques work and how they would be applied in this situation:\\n\\n**Time Series Analysis Techniques**\\n\\n1. **Moving Averages:**  Calculate the average of stock prices over a specific period (e.g., 5 days, 10 days, 20 days). This smooths out short-term fluctuations and helps identify longer-term trends.\\n\\n2. **Seasonal Trends:** Look for patterns in stock prices that repeat over specific time intervals (e.g., daily, weekly, monthly). This helps understand seasonality in the stock\\'s behavior.\\n\\n3. **Volatility Patterns:** Measure how much the stock price fluctuates around its average. This can indicate periods of higher or lower risk.\\n\\n**Forecasting with Time Series Analysis**\\n\\nTo forecast the high and low prices for October 14th, 2024, you would:\\n\\n1. **Clean and Prepare Data:**  Ensure the stock data is accurate and free of missing values. Convert dates to a numerical format for analysis.\\n\\n2. **Apply Time Series Techniques:** Calculate moving averages, identify seasonal patterns, and analyze volatility. You might use different window sizes (e.g., 5-day, 20-day) to capture various trends.\\n\\n3. **Build a Model:**  Based on the identified trends and patterns, construct a statistical model (e.g., an ARIMA model) to predict future high and low prices.\\n\\n4. **Evaluate and Adjust:** Compare your model\\'s predictions with actual stock prices over time. This helps determine its accuracy and make any necessary adjustments.\\n\\n**Important Considerations**\\n\\n* **Data Quality:** The accuracy of your forecast relies heavily on the quality and completeness of the stock price data.\\n* **External Factors:** Remember, stock prices are influenced by a wide range of external factors (market events, economic conditions, news) that time series analysis alone cannot account for.\\n\\n**To get a more precise prediction, you would need to:**\\n\\n* **Provide the \"ADSGn Historical Data.csv\" file:**  This would allow me to perform the analysis and provide a more accurate forecast.\\n* **Consider external factors:**  Include information about potential market events or economic conditions that might affect Adidas stock.\\n\\nLet me know if you have any more questions about the process! \\n', 'data': {'userId': 'cqtf47@motorolasolutions.com', 'model': 'VertexGemini', 'datastoreId': '362a5d9c-65f8-43df-a751-2057708501ca'}, 'valid_response': True, 'initialPrompt': True, 'args': {'model': 'gemini-1.5-flash-001', 'response_type': 'text', 'transaction_id': '4ee0ef82-97cc-4d79-aec6-c4e233f44a58'}}\n"
     ]
    }
   ],
   "source": [
    "import requests\n",
    "import json\n",
    "\n",
    "url = \"https://genai-service.stage.commandcentral.com/app-gateway/api/v2/chat\"\n",
    "headers = {\n",
    "    \"x-msi-genai-api-key\":  \"m,(w(7-CzS-kbVY8u3AF.JYeAG-7PLyuyP6.x@zj\", #\"LSgoaIy~a3gL9aJR7C.gU!5q~LNOR9WmVpNj99xy\", \n",
    "    \"Content-Type\": \"application/json\",\n",
    "    # \"X-msi-genai-client\": \"<some-unique-app-identifier>\"\n",
    "}\n",
    "data = {\n",
    "    \"userId\": \"cqtf47@motorolasolutions.com\",\n",
    "    \"model\": \"VertexGemini\",\n",
    "    \"prompt\": \"Given the historical stock price data of Adidas from the datastore, analyze the trends in daily highs and lows over the past months. Use time series analysis techniques such as moving averages, seasonal trends, and volatility patterns to forecast the stock's high and low values for 14th October 2024. Don't consider any external factors like market events or economic conditions. Based on this analysis, predict the approximately expected high and low prices for Adidas stock on 14th October 2024.\",\n",
    "    # \"sessionId\": \"c2e07ae5-4d6b-48e6-b035-6a8aefb57321\",\n",
    "    \"datastoreId\":  \"362a5d9c-65f8-43df-a751-2057708501ca\" #\"0f45024e-3c7a-4b18-a2fa-c0af896f5ff7\",\n",
    "    # \"modelConfig\": {\n",
    "    #     \"temperature\": 0.5,\n",
    "    #     \"max_tokens\": 800,\n",
    "    #     \"top_p\": 2,\n",
    "    #     \"frequency_penalty\": 0,\n",
    "    #     \"presence_penalty\": 0\n",
    "    # }\n",
    "}\n",
    "\n",
    "response = requests.post(url, headers=headers, json=data)\n",
    "print(response.json())"
   ]
  },
  {
   "cell_type": "code",
   "execution_count": 6,
   "metadata": {},
   "outputs": [
    {
     "name": "stdout",
     "output_type": "stream",
     "text": [
      " * Serving Flask app '__main__'\n",
      " * Debug mode: on\n"
     ]
    },
    {
     "name": "stderr",
     "output_type": "stream",
     "text": [
      "WARNING: This is a development server. Do not use it in a production deployment. Use a production WSGI server instead.\n",
      " * Running on http://127.0.0.1:5000\n",
      "Press CTRL+C to quit\n",
      " * Restarting with stat\n"
     ]
    },
    {
     "ename": "SystemExit",
     "evalue": "1",
     "output_type": "error",
     "traceback": [
      "An exception has occurred, use %tb to see the full traceback.\n",
      "\u001b[1;31mSystemExit\u001b[0m\u001b[1;31m:\u001b[0m 1\n"
     ]
    },
    {
     "name": "stderr",
     "output_type": "stream",
     "text": [
      "c:\\Users\\CQTF47\\AppData\\Local\\miniconda3\\envs\\unstructured_env\\lib\\site-packages\\IPython\\core\\interactiveshell.py:3585: UserWarning: To exit: use 'exit', 'quit', or Ctrl-D.\n",
      "  warn(\"To exit: use 'exit', 'quit', or Ctrl-D.\", stacklevel=1)\n"
     ]
    }
   ],
   "source": [
    "from flask import Flask, jsonify, request\n",
    "import requests\n",
    "\n",
    "app = Flask(__name__)\n",
    "\n",
    "# Predefined variables\n",
    "data = {\n",
    "    'userId': 'cqtf47@motorolasolutions.com',\n",
    "    'model': 'VertexGemini',\n",
    "    'prompt': \"Given the historical stock price data of Adidas from the datastore, analyze the trends in daily highs and lows over the past months. Use time series analysis techniques such as moving averages, seasonal trends, and volatility patterns to forecast the stock's high and low values for 14th October 2024. Don't consider any external factors like market events or economic conditions. Based on this analysis, predict the approximately expected high and low prices for Adidas stock on 14th October 2024.\",\n",
    "    'datastoreId': '362a5d9c-65f8-43df-a751-2057708501ca'\n",
    "}\n",
    "\n",
    "headers = {\n",
    "    'x-msi-genai-api-key': 'm,(w(7-CzS-kbVY8u3AF.JYeAG-7PLyuyP6.x@zj',\n",
    "    'Content-Type': 'application/json'\n",
    "}\n",
    "\n",
    "url = 'https://genai-service.stage.commandcentral.com/app-gateway/api/v2/chat'\n",
    "\n",
    "@app.route('/generate-response', methods=['POST'])\n",
    "def generate_response():\n",
    "    response = requests.post(url, headers=headers, json=data)\n",
    "    return jsonify(response.json())\n",
    "\n",
    "if __name__ == '__main__':\n",
    "    app.run(debug=True)"
   ]
  },
  {
   "cell_type": "code",
   "execution_count": null,
   "metadata": {},
   "outputs": [],
   "source": []
  }
 ],
 "metadata": {
  "kernelspec": {
   "display_name": "unstructured_env",
   "language": "python",
   "name": "python3"
  },
  "language_info": {
   "codemirror_mode": {
    "name": "ipython",
    "version": 3
   },
   "file_extension": ".py",
   "mimetype": "text/x-python",
   "name": "python",
   "nbconvert_exporter": "python",
   "pygments_lexer": "ipython3",
   "version": "3.10.14"
  }
 },
 "nbformat": 4,
 "nbformat_minor": 2
}
