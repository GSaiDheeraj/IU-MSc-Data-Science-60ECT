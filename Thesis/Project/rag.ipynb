{
 "cells": [
  {
   "cell_type": "code",
   "execution_count": null,
   "metadata": {},
   "outputs": [],
   "source": [
    "from langchain.agents import Agent, AgentExecutor\n",
    "from langchain.llms import Gemini\n",
    "from langchain.prompts import PromptTemplate\n",
    "\n",
    "# Initialize the Gemini model\n",
    "gemini_model = Gemini(api_key=\"your_gemini_api_key\")\n",
    "\n",
    "# Define the prompt templates for financial document analysis and stock price predictions\n",
    "financial_analysis_prompt = PromptTemplate(\n",
    "    input_variables=[\"document\"],\n",
    "    template=\"Analyze the following financial document and provide insights:\\n\\n{document}\"\n",
    ")\n",
    "\n",
    "stock_prediction_prompt = PromptTemplate(\n",
    "    input_variables=[\"stock_symbol\"],\n",
    "    template=\"Predict the stock price for {stock_symbol} for the next week.\"\n",
    ")\n",
    "\n",
    "# Create agents for financial document analysis and stock price predictions\n",
    "financial_analysis_agent = Agent(\n",
    "    llm=gemini_model,\n",
    "    prompt_template=financial_analysis_prompt\n",
    ")\n",
    "\n",
    "stock_prediction_agent = Agent(\n",
    "    llm=gemini_model,\n",
    "    prompt_template=stock_prediction_prompt\n",
    ")\n",
    "\n",
    "# Create an executor to run the agents\n",
    "executor = AgentExecutor(agents=[financial_analysis_agent, stock_prediction_agent])\n",
    "\n",
    "# Example usage\n",
    "financial_document = \"Your financial document content here.\"\n",
    "stock_symbol = \"AAPL\"\n",
    "\n",
    "# Run the financial analysis agent\n",
    "financial_analysis_result = executor.run(agent=financial_analysis_agent, document=financial_document)\n",
    "print(\"Financial Analysis Result:\", financial_analysis_result)\n",
    "\n",
    "# Run the stock prediction agent\n",
    "stock_prediction_result = executor.run(agent=stock_prediction_agent, stock_symbol=stock_symbol)\n",
    "print(\"Stock Prediction Result:\", stock_prediction_result)"
   ]
  }
 ],
 "metadata": {
  "kernelspec": {
   "display_name": "unstructured_env",
   "language": "python",
   "name": "python3"
  },
  "language_info": {
   "name": "python",
   "version": "3.10.14"
  }
 },
 "nbformat": 4,
 "nbformat_minor": 2
}
