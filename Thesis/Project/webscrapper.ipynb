{
 "cells": [
  {
   "cell_type": "code",
   "execution_count": 20,
   "metadata": {},
   "outputs": [],
   "source": [
    "import requests\n",
    "from bs4 import BeautifulSoup\n",
    "from urllib.parse import urljoin\n",
    "import itertools"
   ]
  },
  {
   "cell_type": "code",
   "execution_count": 23,
   "metadata": {},
   "outputs": [],
   "source": [
    "\n",
    "def get_page_content(url):\n",
    "    try:\n",
    "        response = requests.get(url)\n",
    "        if response.status_code == 200:\n",
    "            return response.text\n",
    "        else:\n",
    "            print(f\"Failed to retrieve {url}\")\n",
    "            return None\n",
    "    except requests.exceptions.RequestException as e:\n",
    "        print(f\"Error fetching {url}: {e}\")\n",
    "        return None\n",
    "\n",
    "def extract_links(base_url, content):\n",
    "    soup = BeautifulSoup(content, 'html.parser')\n",
    "    links = set()  # Using a set to avoid duplicate links\n",
    "    for a_tag in soup.find_all('a', href=True):\n",
    "        href = a_tag['href']\n",
    "        full_url = urljoin(base_url, href)  # Join relative URLs with the base URL\n",
    "        links.add(full_url)\n",
    "    return links\n",
    "\n",
    "def extract_information(url):\n",
    "    content = get_page_content(url)\n",
    "    if content:\n",
    "        soup = BeautifulSoup(content, 'html.parser')\n",
    "        page_text = soup.get_text(separator='\\n').strip()  # Extract plain text from the page\n",
    "        print(f\"Extracted content from {url}:\\n{page_text[:200]}...\")  # Printing first 200 chars for demo\n",
    "        return page_text\n",
    "    return None\n",
    "\n",
    "def process_website(base_url):\n",
    "    content = get_page_content(base_url)\n",
    "    if content:\n",
    "        links = extract_links(base_url, content)\n",
    "        print(f\"Found {len(links)} links on {base_url}\")\n",
    "        small_set = set(itertools.islice(links, 12))\n",
    "        print(f\"Updated {len(small_set)} links on {base_url}\")\n",
    "        \n",
    "        for link in small_set:\n",
    "            print(f\"Processing {link} ...\")\n",
    "            extract_information(link)\n",
    "\n",
    "\n"
   ]
  },
  {
   "cell_type": "code",
   "execution_count": 24,
   "metadata": {},
   "outputs": [
    {
     "name": "stdout",
     "output_type": "stream",
     "text": [
      "Found 366 links on https://finance.yahoo.com/quote/ADS.DE/\n",
      "Updated 12 links on https://finance.yahoo.com/quote/ADS.DE/\n",
      "Processing https://finance.yahoo.com/sectors/communication-services/ ...\n",
      "Extracted content from https://finance.yahoo.com/sectors/communication-services/:\n",
      "Communication Services Stock Performance - Yahoo Finance\n",
      " \n",
      "\n",
      "\n",
      "\n",
      "\n",
      "\n",
      "\n",
      "\n",
      "\n",
      " \n",
      " \n",
      " \n",
      " \n",
      " \n",
      " \n",
      " \n",
      " \n",
      " \n",
      " \n",
      " \n",
      " \n",
      " \n",
      " \n",
      "News\n",
      " \n",
      " \n",
      "Today's news\n",
      " \n",
      " \n",
      " \n",
      "US\n",
      " \n",
      " \n",
      " \n",
      "Politics\n",
      " \n",
      " \n",
      " \n",
      "World\n",
      " \n",
      " \n",
      " \n",
      "Tech\n",
      " \n",
      " \n",
      "Reviews and deals \n",
      " \n",
      "Audio \n",
      " \n",
      "Co...\n",
      "Processing https://finance.yahoo.com/topic/tech/ ...\n",
      "Extracted content from https://finance.yahoo.com/topic/tech/:\n",
      "Latest Technology News and Reviews - Yahoo Finance\n",
      " \n",
      " \n",
      " \n",
      " \n",
      " \n",
      " \n",
      " \n",
      " \n",
      " \n",
      " \n",
      "News\n",
      " \n",
      " \n",
      "Today's news\n",
      " \n",
      " \n",
      " \n",
      "US\n",
      " \n",
      " \n",
      " \n",
      "Politics\n",
      " \n",
      " \n",
      " \n",
      "World\n",
      " \n",
      " \n",
      " \n",
      "Tech\n",
      " \n",
      " \n",
      "Reviews and deals \n",
      " \n",
      "Audio \n",
      " \n",
      "Computing \n",
      " \n",
      "Gaming \n",
      " \n",
      "Hea...\n",
      "Processing https://de.yahoo.com/?p=dnr ...\n",
      "Extracted content from https://de.yahoo.com/?p=dnr:\n",
      "Yahoo | Mail, Wetter, Suche, Nachrichten, Finanzen, Sport & mehr\n",
      "\n",
      "\n",
      "\n",
      "\n",
      "\n",
      "\n",
      "\n",
      "\n",
      "\n",
      "\n",
      " \n",
      " \n",
      " \n",
      " \n",
      "Make Yahoo Your Homepage\n",
      "Discover something new every day from News, Sports, Finance, Entertainment and more!\n",
      " \n",
      " \n",
      " \n",
      "Y...\n",
      "Processing https://finance.yahoo.com/markets/stocks/trending/ ...\n",
      "Extracted content from https://finance.yahoo.com/markets/stocks/trending/:\n",
      "Top Trending Stocks: US stocks with the highest interest today - Yahoo Finance\n",
      " \n",
      "\n",
      "\n",
      "\n",
      "\n",
      "\n",
      "\n",
      "\n",
      "\n",
      " \n",
      " \n",
      " \n",
      " \n",
      " \n",
      " \n",
      " \n",
      " \n",
      " \n",
      " \n",
      " \n",
      " \n",
      " \n",
      " \n",
      "News\n",
      " \n",
      " \n",
      "Today's news\n",
      " \n",
      " \n",
      " \n",
      "US\n",
      " \n",
      " \n",
      " \n",
      "Politics\n",
      " \n",
      " \n",
      " \n",
      "World\n",
      " \n",
      " \n",
      " \n",
      "Tech\n",
      " \n",
      " \n",
      "Reviews an...\n",
      "Processing https://finance.yahoo.com/quote/BMW.DE/ ...\n",
      "Failed to retrieve https://finance.yahoo.com/quote/BMW.DE/\n",
      "Processing https://finance.yahoo.com/quote/SIE.DE/ ...\n",
      "Failed to retrieve https://finance.yahoo.com/quote/SIE.DE/\n",
      "Processing https://finance.yahoo.com/quote/ADS.DE/history/ ...\n",
      "Failed to retrieve https://finance.yahoo.com/quote/ADS.DE/history/\n",
      "Processing https://sports.yahoo.com/nba/players/ ...\n"
     ]
    },
    {
     "ename": "KeyboardInterrupt",
     "evalue": "",
     "output_type": "error",
     "traceback": [
      "\u001b[1;31m---------------------------------------------------------------------------\u001b[0m",
      "\u001b[1;31mKeyboardInterrupt\u001b[0m                         Traceback (most recent call last)",
      "Cell \u001b[1;32mIn[24], line 3\u001b[0m\n\u001b[0;32m      1\u001b[0m \u001b[38;5;66;03m# Example usage\u001b[39;00m\n\u001b[0;32m      2\u001b[0m website_url \u001b[38;5;241m=\u001b[39m \u001b[38;5;124m'\u001b[39m\u001b[38;5;124mhttps://finance.yahoo.com/quote/ADS.DE/\u001b[39m\u001b[38;5;124m'\u001b[39m  \u001b[38;5;66;03m# Replace with your desired website\u001b[39;00m\n\u001b[1;32m----> 3\u001b[0m \u001b[43mprocess_website\u001b[49m\u001b[43m(\u001b[49m\u001b[43mwebsite_url\u001b[49m\u001b[43m)\u001b[49m\n",
      "Cell \u001b[1;32mIn[23], line 41\u001b[0m, in \u001b[0;36mprocess_website\u001b[1;34m(base_url)\u001b[0m\n\u001b[0;32m     39\u001b[0m \u001b[38;5;28;01mfor\u001b[39;00m link \u001b[38;5;129;01min\u001b[39;00m small_set:\n\u001b[0;32m     40\u001b[0m     \u001b[38;5;28mprint\u001b[39m(\u001b[38;5;124mf\u001b[39m\u001b[38;5;124m\"\u001b[39m\u001b[38;5;124mProcessing \u001b[39m\u001b[38;5;132;01m{\u001b[39;00mlink\u001b[38;5;132;01m}\u001b[39;00m\u001b[38;5;124m ...\u001b[39m\u001b[38;5;124m\"\u001b[39m)\n\u001b[1;32m---> 41\u001b[0m     \u001b[43mextract_information\u001b[49m\u001b[43m(\u001b[49m\u001b[43mlink\u001b[49m\u001b[43m)\u001b[49m\n",
      "Cell \u001b[1;32mIn[23], line 25\u001b[0m, in \u001b[0;36mextract_information\u001b[1;34m(url)\u001b[0m\n\u001b[0;32m     23\u001b[0m content \u001b[38;5;241m=\u001b[39m get_page_content(url)\n\u001b[0;32m     24\u001b[0m \u001b[38;5;28;01mif\u001b[39;00m content:\n\u001b[1;32m---> 25\u001b[0m     soup \u001b[38;5;241m=\u001b[39m \u001b[43mBeautifulSoup\u001b[49m\u001b[43m(\u001b[49m\u001b[43mcontent\u001b[49m\u001b[43m,\u001b[49m\u001b[43m \u001b[49m\u001b[38;5;124;43m'\u001b[39;49m\u001b[38;5;124;43mhtml.parser\u001b[39;49m\u001b[38;5;124;43m'\u001b[39;49m\u001b[43m)\u001b[49m\n\u001b[0;32m     26\u001b[0m     page_text \u001b[38;5;241m=\u001b[39m soup\u001b[38;5;241m.\u001b[39mget_text(separator\u001b[38;5;241m=\u001b[39m\u001b[38;5;124m'\u001b[39m\u001b[38;5;130;01m\\n\u001b[39;00m\u001b[38;5;124m'\u001b[39m)\u001b[38;5;241m.\u001b[39mstrip()  \u001b[38;5;66;03m# Extract plain text from the page\u001b[39;00m\n\u001b[0;32m     27\u001b[0m     \u001b[38;5;28mprint\u001b[39m(\u001b[38;5;124mf\u001b[39m\u001b[38;5;124m\"\u001b[39m\u001b[38;5;124mExtracted content from \u001b[39m\u001b[38;5;132;01m{\u001b[39;00murl\u001b[38;5;132;01m}\u001b[39;00m\u001b[38;5;124m:\u001b[39m\u001b[38;5;130;01m\\n\u001b[39;00m\u001b[38;5;132;01m{\u001b[39;00mpage_text[:\u001b[38;5;241m200\u001b[39m]\u001b[38;5;132;01m}\u001b[39;00m\u001b[38;5;124m...\u001b[39m\u001b[38;5;124m\"\u001b[39m)  \u001b[38;5;66;03m# Printing first 200 chars for demo\u001b[39;00m\n",
      "File \u001b[1;32mc:\\Users\\CQTF47\\AppData\\Local\\miniconda3\\envs\\unstructured_env\\lib\\site-packages\\bs4\\__init__.py:335\u001b[0m, in \u001b[0;36mBeautifulSoup.__init__\u001b[1;34m(self, markup, features, builder, parse_only, from_encoding, exclude_encodings, element_classes, **kwargs)\u001b[0m\n\u001b[0;32m    333\u001b[0m \u001b[38;5;28mself\u001b[39m\u001b[38;5;241m.\u001b[39mbuilder\u001b[38;5;241m.\u001b[39minitialize_soup(\u001b[38;5;28mself\u001b[39m)\n\u001b[0;32m    334\u001b[0m \u001b[38;5;28;01mtry\u001b[39;00m:\n\u001b[1;32m--> 335\u001b[0m     \u001b[38;5;28;43mself\u001b[39;49m\u001b[38;5;241;43m.\u001b[39;49m\u001b[43m_feed\u001b[49m\u001b[43m(\u001b[49m\u001b[43m)\u001b[49m\n\u001b[0;32m    336\u001b[0m     success \u001b[38;5;241m=\u001b[39m \u001b[38;5;28;01mTrue\u001b[39;00m\n\u001b[0;32m    337\u001b[0m     \u001b[38;5;28;01mbreak\u001b[39;00m\n",
      "File \u001b[1;32mc:\\Users\\CQTF47\\AppData\\Local\\miniconda3\\envs\\unstructured_env\\lib\\site-packages\\bs4\\__init__.py:478\u001b[0m, in \u001b[0;36mBeautifulSoup._feed\u001b[1;34m(self)\u001b[0m\n\u001b[0;32m    475\u001b[0m \u001b[38;5;66;03m# Convert the document to Unicode.\u001b[39;00m\n\u001b[0;32m    476\u001b[0m \u001b[38;5;28mself\u001b[39m\u001b[38;5;241m.\u001b[39mbuilder\u001b[38;5;241m.\u001b[39mreset()\n\u001b[1;32m--> 478\u001b[0m \u001b[38;5;28;43mself\u001b[39;49m\u001b[38;5;241;43m.\u001b[39;49m\u001b[43mbuilder\u001b[49m\u001b[38;5;241;43m.\u001b[39;49m\u001b[43mfeed\u001b[49m\u001b[43m(\u001b[49m\u001b[38;5;28;43mself\u001b[39;49m\u001b[38;5;241;43m.\u001b[39;49m\u001b[43mmarkup\u001b[49m\u001b[43m)\u001b[49m\n\u001b[0;32m    479\u001b[0m \u001b[38;5;66;03m# Close out any unfinished strings and close all the open tags.\u001b[39;00m\n\u001b[0;32m    480\u001b[0m \u001b[38;5;28mself\u001b[39m\u001b[38;5;241m.\u001b[39mendData()\n",
      "File \u001b[1;32mc:\\Users\\CQTF47\\AppData\\Local\\miniconda3\\envs\\unstructured_env\\lib\\site-packages\\bs4\\builder\\_htmlparser.py:380\u001b[0m, in \u001b[0;36mHTMLParserTreeBuilder.feed\u001b[1;34m(self, markup)\u001b[0m\n\u001b[0;32m    378\u001b[0m parser\u001b[38;5;241m.\u001b[39msoup \u001b[38;5;241m=\u001b[39m \u001b[38;5;28mself\u001b[39m\u001b[38;5;241m.\u001b[39msoup\n\u001b[0;32m    379\u001b[0m \u001b[38;5;28;01mtry\u001b[39;00m:\n\u001b[1;32m--> 380\u001b[0m     \u001b[43mparser\u001b[49m\u001b[38;5;241;43m.\u001b[39;49m\u001b[43mfeed\u001b[49m\u001b[43m(\u001b[49m\u001b[43mmarkup\u001b[49m\u001b[43m)\u001b[49m\n\u001b[0;32m    381\u001b[0m     parser\u001b[38;5;241m.\u001b[39mclose()\n\u001b[0;32m    382\u001b[0m \u001b[38;5;28;01mexcept\u001b[39;00m \u001b[38;5;167;01mAssertionError\u001b[39;00m \u001b[38;5;28;01mas\u001b[39;00m e:\n\u001b[0;32m    383\u001b[0m     \u001b[38;5;66;03m# html.parser raises AssertionError in rare cases to\u001b[39;00m\n\u001b[0;32m    384\u001b[0m     \u001b[38;5;66;03m# indicate a fatal problem with the markup, especially\u001b[39;00m\n\u001b[0;32m    385\u001b[0m     \u001b[38;5;66;03m# when there's an error in the doctype declaration.\u001b[39;00m\n",
      "File \u001b[1;32mc:\\Users\\CQTF47\\AppData\\Local\\miniconda3\\envs\\unstructured_env\\lib\\html\\parser.py:110\u001b[0m, in \u001b[0;36mHTMLParser.feed\u001b[1;34m(self, data)\u001b[0m\n\u001b[0;32m    104\u001b[0m \u001b[38;5;250m\u001b[39m\u001b[38;5;124mr\u001b[39m\u001b[38;5;124;03m\"\"\"Feed data to the parser.\u001b[39;00m\n\u001b[0;32m    105\u001b[0m \n\u001b[0;32m    106\u001b[0m \u001b[38;5;124;03mCall this as often as you want, with as little or as much text\u001b[39;00m\n\u001b[0;32m    107\u001b[0m \u001b[38;5;124;03mas you want (may include '\\n').\u001b[39;00m\n\u001b[0;32m    108\u001b[0m \u001b[38;5;124;03m\"\"\"\u001b[39;00m\n\u001b[0;32m    109\u001b[0m \u001b[38;5;28mself\u001b[39m\u001b[38;5;241m.\u001b[39mrawdata \u001b[38;5;241m=\u001b[39m \u001b[38;5;28mself\u001b[39m\u001b[38;5;241m.\u001b[39mrawdata \u001b[38;5;241m+\u001b[39m data\n\u001b[1;32m--> 110\u001b[0m \u001b[38;5;28;43mself\u001b[39;49m\u001b[38;5;241;43m.\u001b[39;49m\u001b[43mgoahead\u001b[49m\u001b[43m(\u001b[49m\u001b[38;5;241;43m0\u001b[39;49m\u001b[43m)\u001b[49m\n",
      "File \u001b[1;32mc:\\Users\\CQTF47\\AppData\\Local\\miniconda3\\envs\\unstructured_env\\lib\\html\\parser.py:170\u001b[0m, in \u001b[0;36mHTMLParser.goahead\u001b[1;34m(self, end)\u001b[0m\n\u001b[0;32m    168\u001b[0m \u001b[38;5;28;01mif\u001b[39;00m startswith(\u001b[38;5;124m'\u001b[39m\u001b[38;5;124m<\u001b[39m\u001b[38;5;124m'\u001b[39m, i):\n\u001b[0;32m    169\u001b[0m     \u001b[38;5;28;01mif\u001b[39;00m starttagopen\u001b[38;5;241m.\u001b[39mmatch(rawdata, i): \u001b[38;5;66;03m# < + letter\u001b[39;00m\n\u001b[1;32m--> 170\u001b[0m         k \u001b[38;5;241m=\u001b[39m \u001b[38;5;28;43mself\u001b[39;49m\u001b[38;5;241;43m.\u001b[39;49m\u001b[43mparse_starttag\u001b[49m\u001b[43m(\u001b[49m\u001b[43mi\u001b[49m\u001b[43m)\u001b[49m\n\u001b[0;32m    171\u001b[0m     \u001b[38;5;28;01melif\u001b[39;00m startswith(\u001b[38;5;124m\"\u001b[39m\u001b[38;5;124m</\u001b[39m\u001b[38;5;124m\"\u001b[39m, i):\n\u001b[0;32m    172\u001b[0m         k \u001b[38;5;241m=\u001b[39m \u001b[38;5;28mself\u001b[39m\u001b[38;5;241m.\u001b[39mparse_endtag(i)\n",
      "File \u001b[1;32mc:\\Users\\CQTF47\\AppData\\Local\\miniconda3\\envs\\unstructured_env\\lib\\html\\parser.py:344\u001b[0m, in \u001b[0;36mHTMLParser.parse_starttag\u001b[1;34m(self, i)\u001b[0m\n\u001b[0;32m    342\u001b[0m     \u001b[38;5;28mself\u001b[39m\u001b[38;5;241m.\u001b[39mhandle_startendtag(tag, attrs)\n\u001b[0;32m    343\u001b[0m \u001b[38;5;28;01melse\u001b[39;00m:\n\u001b[1;32m--> 344\u001b[0m     \u001b[38;5;28;43mself\u001b[39;49m\u001b[38;5;241;43m.\u001b[39;49m\u001b[43mhandle_starttag\u001b[49m\u001b[43m(\u001b[49m\u001b[43mtag\u001b[49m\u001b[43m,\u001b[49m\u001b[43m \u001b[49m\u001b[43mattrs\u001b[49m\u001b[43m)\u001b[49m\n\u001b[0;32m    345\u001b[0m     \u001b[38;5;28;01mif\u001b[39;00m tag \u001b[38;5;129;01min\u001b[39;00m \u001b[38;5;28mself\u001b[39m\u001b[38;5;241m.\u001b[39mCDATA_CONTENT_ELEMENTS:\n\u001b[0;32m    346\u001b[0m         \u001b[38;5;28mself\u001b[39m\u001b[38;5;241m.\u001b[39mset_cdata_mode(tag)\n",
      "File \u001b[1;32mc:\\Users\\CQTF47\\AppData\\Local\\miniconda3\\envs\\unstructured_env\\lib\\site-packages\\bs4\\builder\\_htmlparser.py:137\u001b[0m, in \u001b[0;36mBeautifulSoupHTMLParser.handle_starttag\u001b[1;34m(self, name, attrs, handle_empty_element)\u001b[0m\n\u001b[0;32m    135\u001b[0m \u001b[38;5;66;03m#print(\"START\", name)\u001b[39;00m\n\u001b[0;32m    136\u001b[0m sourceline, sourcepos \u001b[38;5;241m=\u001b[39m \u001b[38;5;28mself\u001b[39m\u001b[38;5;241m.\u001b[39mgetpos()\n\u001b[1;32m--> 137\u001b[0m tag \u001b[38;5;241m=\u001b[39m \u001b[38;5;28;43mself\u001b[39;49m\u001b[38;5;241;43m.\u001b[39;49m\u001b[43msoup\u001b[49m\u001b[38;5;241;43m.\u001b[39;49m\u001b[43mhandle_starttag\u001b[49m\u001b[43m(\u001b[49m\n\u001b[0;32m    138\u001b[0m \u001b[43m    \u001b[49m\u001b[43mname\u001b[49m\u001b[43m,\u001b[49m\u001b[43m \u001b[49m\u001b[38;5;28;43;01mNone\u001b[39;49;00m\u001b[43m,\u001b[49m\u001b[43m \u001b[49m\u001b[38;5;28;43;01mNone\u001b[39;49;00m\u001b[43m,\u001b[49m\u001b[43m \u001b[49m\u001b[43mattr_dict\u001b[49m\u001b[43m,\u001b[49m\u001b[43m \u001b[49m\u001b[43msourceline\u001b[49m\u001b[38;5;241;43m=\u001b[39;49m\u001b[43msourceline\u001b[49m\u001b[43m,\u001b[49m\n\u001b[0;32m    139\u001b[0m \u001b[43m    \u001b[49m\u001b[43msourcepos\u001b[49m\u001b[38;5;241;43m=\u001b[39;49m\u001b[43msourcepos\u001b[49m\n\u001b[0;32m    140\u001b[0m \u001b[43m\u001b[49m\u001b[43m)\u001b[49m\n\u001b[0;32m    141\u001b[0m \u001b[38;5;28;01mif\u001b[39;00m tag \u001b[38;5;129;01mand\u001b[39;00m tag\u001b[38;5;241m.\u001b[39mis_empty_element \u001b[38;5;129;01mand\u001b[39;00m handle_empty_element:\n\u001b[0;32m    142\u001b[0m     \u001b[38;5;66;03m# Unlike other parsers, html.parser doesn't send separate end tag\u001b[39;00m\n\u001b[0;32m    143\u001b[0m     \u001b[38;5;66;03m# events for empty-element tags. (It's handled in\u001b[39;00m\n\u001b[1;32m   (...)\u001b[0m\n\u001b[0;32m    149\u001b[0m     \u001b[38;5;66;03m# don't want handle_endtag() to cross off any previous end\u001b[39;00m\n\u001b[0;32m    150\u001b[0m     \u001b[38;5;66;03m# events for tags of this name.\u001b[39;00m\n\u001b[0;32m    151\u001b[0m     \u001b[38;5;28mself\u001b[39m\u001b[38;5;241m.\u001b[39mhandle_endtag(name, check_already_closed\u001b[38;5;241m=\u001b[39m\u001b[38;5;28;01mFalse\u001b[39;00m)\n",
      "File \u001b[1;32mc:\\Users\\CQTF47\\AppData\\Local\\miniconda3\\envs\\unstructured_env\\lib\\site-packages\\bs4\\__init__.py:749\u001b[0m, in \u001b[0;36mBeautifulSoup.handle_starttag\u001b[1;34m(self, name, namespace, nsprefix, attrs, sourceline, sourcepos, namespaces)\u001b[0m\n\u001b[0;32m    744\u001b[0m \u001b[38;5;28;01mif\u001b[39;00m (\u001b[38;5;28mself\u001b[39m\u001b[38;5;241m.\u001b[39mparse_only \u001b[38;5;129;01mand\u001b[39;00m \u001b[38;5;28mlen\u001b[39m(\u001b[38;5;28mself\u001b[39m\u001b[38;5;241m.\u001b[39mtagStack) \u001b[38;5;241m<\u001b[39m\u001b[38;5;241m=\u001b[39m \u001b[38;5;241m1\u001b[39m\n\u001b[0;32m    745\u001b[0m     \u001b[38;5;129;01mand\u001b[39;00m (\u001b[38;5;28mself\u001b[39m\u001b[38;5;241m.\u001b[39mparse_only\u001b[38;5;241m.\u001b[39mtext\n\u001b[0;32m    746\u001b[0m          \u001b[38;5;129;01mor\u001b[39;00m \u001b[38;5;129;01mnot\u001b[39;00m \u001b[38;5;28mself\u001b[39m\u001b[38;5;241m.\u001b[39mparse_only\u001b[38;5;241m.\u001b[39msearch_tag(name, attrs))):\n\u001b[0;32m    747\u001b[0m     \u001b[38;5;28;01mreturn\u001b[39;00m \u001b[38;5;28;01mNone\u001b[39;00m\n\u001b[1;32m--> 749\u001b[0m tag \u001b[38;5;241m=\u001b[39m \u001b[38;5;28;43mself\u001b[39;49m\u001b[38;5;241;43m.\u001b[39;49m\u001b[43melement_classes\u001b[49m\u001b[38;5;241;43m.\u001b[39;49m\u001b[43mget\u001b[49m\u001b[43m(\u001b[49m\u001b[43mTag\u001b[49m\u001b[43m,\u001b[49m\u001b[43m \u001b[49m\u001b[43mTag\u001b[49m\u001b[43m)\u001b[49m\u001b[43m(\u001b[49m\n\u001b[0;32m    750\u001b[0m \u001b[43m    \u001b[49m\u001b[38;5;28;43mself\u001b[39;49m\u001b[43m,\u001b[49m\u001b[43m \u001b[49m\u001b[38;5;28;43mself\u001b[39;49m\u001b[38;5;241;43m.\u001b[39;49m\u001b[43mbuilder\u001b[49m\u001b[43m,\u001b[49m\u001b[43m \u001b[49m\u001b[43mname\u001b[49m\u001b[43m,\u001b[49m\u001b[43m \u001b[49m\u001b[43mnamespace\u001b[49m\u001b[43m,\u001b[49m\u001b[43m \u001b[49m\u001b[43mnsprefix\u001b[49m\u001b[43m,\u001b[49m\u001b[43m \u001b[49m\u001b[43mattrs\u001b[49m\u001b[43m,\u001b[49m\n\u001b[0;32m    751\u001b[0m \u001b[43m    \u001b[49m\u001b[38;5;28;43mself\u001b[39;49m\u001b[38;5;241;43m.\u001b[39;49m\u001b[43mcurrentTag\u001b[49m\u001b[43m,\u001b[49m\u001b[43m \u001b[49m\u001b[38;5;28;43mself\u001b[39;49m\u001b[38;5;241;43m.\u001b[39;49m\u001b[43m_most_recent_element\u001b[49m\u001b[43m,\u001b[49m\n\u001b[0;32m    752\u001b[0m \u001b[43m    \u001b[49m\u001b[43msourceline\u001b[49m\u001b[38;5;241;43m=\u001b[39;49m\u001b[43msourceline\u001b[49m\u001b[43m,\u001b[49m\u001b[43m \u001b[49m\u001b[43msourcepos\u001b[49m\u001b[38;5;241;43m=\u001b[39;49m\u001b[43msourcepos\u001b[49m\u001b[43m,\u001b[49m\n\u001b[0;32m    753\u001b[0m \u001b[43m    \u001b[49m\u001b[43mnamespaces\u001b[49m\u001b[38;5;241;43m=\u001b[39;49m\u001b[43mnamespaces\u001b[49m\n\u001b[0;32m    754\u001b[0m \u001b[43m\u001b[49m\u001b[43m)\u001b[49m\n\u001b[0;32m    755\u001b[0m \u001b[38;5;28;01mif\u001b[39;00m tag \u001b[38;5;129;01mis\u001b[39;00m \u001b[38;5;28;01mNone\u001b[39;00m:\n\u001b[0;32m    756\u001b[0m     \u001b[38;5;28;01mreturn\u001b[39;00m tag\n",
      "File \u001b[1;32mc:\\Users\\CQTF47\\AppData\\Local\\miniconda3\\envs\\unstructured_env\\lib\\site-packages\\bs4\\element.py:1255\u001b[0m, in \u001b[0;36mTag.__init__\u001b[1;34m(self, parser, builder, name, namespace, prefix, attrs, parent, previous, is_xml, sourceline, sourcepos, can_be_empty_element, cdata_list_attributes, preserve_whitespace_tags, interesting_string_types, namespaces)\u001b[0m\n\u001b[0;32m   1252\u001b[0m \u001b[38;5;28mself\u001b[39m\u001b[38;5;241m.\u001b[39m_namespaces \u001b[38;5;241m=\u001b[39m namespaces \u001b[38;5;129;01mor\u001b[39;00m {}\n\u001b[0;32m   1253\u001b[0m \u001b[38;5;28mself\u001b[39m\u001b[38;5;241m.\u001b[39mprefix \u001b[38;5;241m=\u001b[39m prefix\n\u001b[0;32m   1254\u001b[0m \u001b[38;5;28;01mif\u001b[39;00m ((\u001b[38;5;129;01mnot\u001b[39;00m builder \u001b[38;5;129;01mor\u001b[39;00m builder\u001b[38;5;241m.\u001b[39mstore_line_numbers)\n\u001b[1;32m-> 1255\u001b[0m     \u001b[38;5;129;01mand\u001b[39;00m (\u001b[43msourceline\u001b[49m\u001b[43m \u001b[49m\u001b[38;5;129;43;01mis\u001b[39;49;00m\u001b[43m \u001b[49m\u001b[38;5;129;43;01mnot\u001b[39;49;00m\u001b[43m \u001b[49m\u001b[38;5;28;43;01mNone\u001b[39;49;00m \u001b[38;5;129;01mor\u001b[39;00m sourcepos \u001b[38;5;129;01mis\u001b[39;00m \u001b[38;5;129;01mnot\u001b[39;00m \u001b[38;5;28;01mNone\u001b[39;00m)):\n\u001b[0;32m   1256\u001b[0m     \u001b[38;5;28mself\u001b[39m\u001b[38;5;241m.\u001b[39msourceline \u001b[38;5;241m=\u001b[39m sourceline\n\u001b[0;32m   1257\u001b[0m     \u001b[38;5;28mself\u001b[39m\u001b[38;5;241m.\u001b[39msourcepos \u001b[38;5;241m=\u001b[39m sourcepos\n",
      "\u001b[1;31mKeyboardInterrupt\u001b[0m: "
     ]
    }
   ],
   "source": [
    "# Example usage\n",
    "website_url = 'https://finance.yahoo.com/quote/ADS.DE/'  # Replace with your desired website\n",
    "process_website(website_url)"
   ]
  },
  {
   "cell_type": "code",
   "execution_count": 6,
   "metadata": {},
   "outputs": [
    {
     "name": "stdout",
     "output_type": "stream",
     "text": [
      "Extracted 50 links from https://www.boerse-frankfurt.de/news/boerse-frankfurt-news\n",
      "https://www.deutsche-boerse.com/dbg-en/media/press-releases\n",
      "https://www.boerse-frankfurt.de/en/first-steps\n",
      "https://www.boerse-frankfurt.de/sustainability\n",
      "https://www.boerse-frankfurt.de/en/exchange-for-students\n",
      "https://www.boerse-frankfurt.de/en/disclaimer-en\n",
      "https://www.boerse-frankfurt.de/registration\n",
      "https://www.facebook.com/frankfurtexchange/\n",
      "https://www.boerse-frankfurt.de/en/kontakt\n",
      "https://www.boerse-frankfurt.de/en/know-how\n",
      "https://www.boerse-frankfurt.de/en/en/kontakt\n",
      "https://www.boerse-frankfurt.de/equities\n",
      "https://itunes.apple.com/de/app/b%C3%B6rse-frankfurt-app/id378816763?mt=8&l=en\n",
      "https://www.boerse-frankfurt.de/events\n",
      "https://www.boerse-frankfurt.de/en/securities\n",
      "https://www.boerse-frankfurt.de/en/know-how/glossary\n",
      "https://www.boerse-frankfurt.de/en/etfs\n",
      "https://youtube.com/boersefrankfurt\n",
      "https://www.boerse-frankfurt.de/commodities\n",
      "https://www.boerse-frankfurt.de/funds\n",
      "https://www.boerse-frankfurt.de/en/privacy\n",
      "http://api-gateway/v1/feeds/news.rss\n",
      "https://www.boerse-frankfurt.de/news/boerse-frankfurt-news\n",
      "https://www.boerse-frankfurt.de/en/trading\n",
      "https://www.boerse-frankfurt.de/en/portfolios\n",
      "https://www.deutsche-boerse-cash-market.com/dbcm-en/\n",
      "https://www.deutsche-boerse.com/dbg-en/\n",
      "https://www.boerse-frankfurt.de/en/trademark\n",
      "https://www.eurexchange.com/exchange-en/\n",
      "https://www.boerse-frankfurt.de/en/publications\n",
      "https://www.xetra-gold.com/en/\n",
      "https://www.boerse-frankfurt.de/rss\n",
      "https://www.boerse-frankfurt.de/en/apps\n",
      "https://www.xetra.com/xetra-en/\n",
      "https://www.venture-network.com/dbvn-en/\n",
      "https://www.boerse-frankfurt.de/en/know-how/visit-boerse-frankfurt\n",
      "https://www.boerse-frankfurt.de/derivatives\n",
      "https://careers.deutsche-boerse.com/\n",
      "https://www.boerse-frankfurt.de/en/imprint\n",
      "https://www.boerse-frankfurt.de/en/xetra-realtime\n",
      "https://www.boerse-frankfurt.de/bonds\n",
      "https://instagram.com/boersefrankfurt\n",
      "https://www.boerse-frankfurt.de/en/watchlists\n",
      "https://www.boerse-frankfurt.de/news/sentiment\n",
      "https://www.linkedin.com/showcase/b%C3%B6rse-frankfurt/\n",
      "https://play.google.com/store/apps/details?id=de.boersefrankfurt.xetra&hl=en\n",
      "https://www.boerse-frankfurt.de/en\n",
      "https://twitter.com/boersefrankfurt\n",
      "https://www.boerse-frankfurt.de/news/announcements\n",
      "https://www.tradingview.com\n",
      "https://www.boerse-frankfurt.de/news\n"
     ]
    }
   ],
   "source": [
    "# Extract hyperlinks from the webpage\n",
    "website_url = 'https://www.boerse-frankfurt.de/news/boerse-frankfurt-news'\n",
    "content = get_page_content(website_url)\n",
    "if content:\n",
    "    links = extract_links(website_url, content)\n",
    "    print(f\"Extracted {len(links)} links from {website_url}\")\n",
    "    for link in links:\n",
    "        print(link)"
   ]
  },
  {
   "cell_type": "code",
   "execution_count": 10,
   "metadata": {},
   "outputs": [],
   "source": [
    "import pandas as pd\n",
    "\n",
    "def extract_table_content(content):\n",
    "    soup = BeautifulSoup(content, 'html.parser')\n",
    "    tables = soup.find_all('table')\n",
    "    \n",
    "    if not tables:\n",
    "        print(\"No tables found in the content.\")\n",
    "        return None\n",
    "    \n",
    "    # Assuming we want the first table\n",
    "    table = tables[0]\n",
    "    df = pd.read_html(str(table))[0]\n",
    "    return df\n",
    "\n",
    "# Extract table content from the webpage\n",
    "# table_df = extract_table_content(content)\n",
    "# if table_df is not None:\n",
    "#     print(table_df)"
   ]
  },
  {
   "cell_type": "code",
   "execution_count": 15,
   "metadata": {},
   "outputs": [
    {
     "name": "stdout",
     "output_type": "stream",
     "text": [
      "<table class=\"table widget-table\"><thead><tr><th class=\"widget-table-header-cell\">Time</th><th class=\"widget-table-header-cell\">Title</th></tr></thead><!-- --></table>\n",
      "Table 1:\n",
      "Empty DataFrame\n",
      "Columns: [Time, Title]\n",
      "Index: []\n"
     ]
    },
    {
     "name": "stderr",
     "output_type": "stream",
     "text": [
      "C:\\Users\\CQTF47\\AppData\\Local\\Temp\\ipykernel_47332\\2497861284.py:13: FutureWarning: Passing literal html to 'read_html' is deprecated and will be removed in a future version. To read from a literal string, wrap it in a 'StringIO' object.\n",
      "  df = pd.read_html(str(table))[0]\n"
     ]
    }
   ],
   "source": [
    "def extract_table_content(content):\n",
    "    soup = BeautifulSoup(content, 'html.parser')\n",
    "    tables = soup.find_all('table')\n",
    "    \n",
    "    if not tables:\n",
    "        print(\"No tables found in the content.\")\n",
    "        return None\n",
    "    \n",
    "    # Extract all tables\n",
    "    all_tables = []\n",
    "    for table in tables:\n",
    "        print(table)\n",
    "        df = pd.read_html(str(table))[0]\n",
    "        all_tables.append(df)\n",
    "    \n",
    "    return all_tables\n",
    "\n",
    "# Extract all table contents from the webpage\n",
    "all_tables = extract_table_content(content)\n",
    "if all_tables:\n",
    "    for i, table_df in enumerate(all_tables):\n",
    "        print(f\"Table {i+1}:\")\n",
    "        print(table_df)"
   ]
  },
  {
   "cell_type": "code",
   "execution_count": 13,
   "metadata": {},
   "outputs": [
    {
     "name": "stdout",
     "output_type": "stream",
     "text": [
      "No tables found in the content.\n"
     ]
    }
   ],
   "source": [
    "website_url = 'https://www.boerse-frankfurt.de/news/boerse-frankfurt-news'  # Replace with your desired website\n",
    "\n",
    "extract_table_content(get_page_content(website_url))"
   ]
  },
  {
   "cell_type": "code",
   "execution_count": 17,
   "metadata": {},
   "outputs": [
    {
     "name": "stdout",
     "output_type": "stream",
     "text": [
      "Found 366 links on https://finance.yahoo.com/quote/ADS.DE/\n",
      "{'https://de.yahoo.com/?p=dnr', 'https://sports.yahoo.com/syndication/', 'https://uk.yahoo.com/?p=dnr', 'https://finance.yahoo.com/markets/stocks/trending/', 'https://finance.yahoo.com/quote/BMW.DE/', 'https://finance.yahoo.com/quote/SIE.DE/', 'https://finance.yahoo.com/quote/GC%3DF/', 'https://finance.yahoo.com/sectors/communication-services/', 'https://finance.yahoo.com/topic/tech/', 'https://finance.yahoo.com/quote/ADS.DE/history/', 'https://sports.yahoo.com/nba/players/', 'https://hockey.fantasysports.yahoo.com/', 'https://finance.yahoo.com/quote/DECK/', 'https://finance.yahoo.com/sectors/consumer-defensive/', 'https://sports.yahoo.com/nba/', 'https://finance.yahoo.com/quote/ADS.DE/key-statistics/', 'https://www.yahoo.com/tech/gaming/', 'https://sports.yahoo.com/soccer/serie-a/', 'https://sports.yahoo.com/mlb/news/', 'https://www.yahoo.com/entertainment/', 'https://www.yahoo.com/entertainment/tagged/videos/', 'https://www.yahoo.com/entertainment/music/', 'https://finance.yahoo.com/personal-finance/cheap-car-insurance-152307402.html', 'https://help.yahoo.com/kb/sports-news', 'https://sports.yahoo.com/soccer/la-liga/', 'https://malaysia.yahoo.com/?p=dnr', 'https://finance.yahoo.com/personal-finance/personal-loans/', 'https://finance.yahoo.com/about/whatsnew/', 'https://sports.yahoo.com/mlb/scoreboard/', 'https://sports.yahoo.com/olympics/beijing-2022/', 'https://finance.yahoo.com/news/3-german-growth-stocks-insider-113336690.html', 'https://sports.yahoo.com/college-football/standings/', 'https://legal.yahoo.com/us/en/yahoo/privacy/adinfo/index.html', 'https://finance.yahoo.com/quote/CIHKY/', 'https://finance.yahoo.com/quote/ADS.DE/research-reports/', 'https://guce.yahoo.com/privacy-dashboard?locale=en-US', 'https://finance.yahoo.com/quote/SAP.DE/', 'https://www.yahoo.com/lifestyle/tagged/mental-health/', 'https://finance.yahoo.com/sectors/financial-services/', 'https://www.yahoo.com/news/health/', 'https://sports.yahoo.com/nba/teams/', 'https://info.wrightsmedia.com/yahoo-finance-licensing', 'https://sports.yahoo.com/newsletters/', 'https://finance.yahoo.com/quote/ADS.DE/holders/', 'https://sports.yahoo.com/college-football/teams/', 'https://finance.yahoo.com/compare/', 'https://finance.yahoo.com/personal-finance/', 'https://www.yahoo.com/tech/tvs/', 'https://sports.yahoo.com/nhl/teams/', 'https://finance.yahoo.com/personal-finance/best-travel-credit-card-203950032.html', 'https://finance.yahoo.com/trending-tickers', 'https://sports.yahoo.com/motorsports/nascar/', 'https://finance.yahoo.com/quote/TSM/', 'https://finance.yahoo.com/markets/mutualfunds/top/', 'https://sports.yahoo.com/mma/', 'https://bestball.fantasysports.yahoo.com/', 'https://www.yahoo.com/lifestyle/amazon-october-prime-day-2024-early-deals-and-everything-to-know-about-the-big-deal-days-sale-143607967.html', 'https://sports.yahoo.com/soccer/premier-league/', 'https://finance.yahoo.com/sectors/real-estate/', 'https://sports.yahoo.com/nhl/stats/', 'https://mail.yahoo.com/', 'https://finance.yahoo.com/quote/ADS.DE/profile/', 'https://finance.yahoo.com/quote/CL%3DF/', 'https://sports.yahoo.com/nba/playoffs/', 'https://finance.yahoo.com/personal-finance/calculators/mortgage-calculator/', 'https://login.yahoo.com/config/login?.done=https%3A%2F%2Ffinance.yahoo.com%2Fquote%2FADS.DE%2F%3Ffailsafe%3D1%26ynet%3D0%26_device%3Ddesktop%26device%3Ddesktop&.intl=us&.lang=en-US&.src=finance', 'https://news.yahoo.com/newsletters/', 'https://sports.yahoo.com/soccer/champions-league/', 'https://www.yahoo.com/', 'https://sg.yahoo.com/?p=dnr', 'https://finance.yahoo.com/quote/ADS.DE/', 'https://www.yahoo.com/lifestyle/tagged/best-of/', 'https://finance.yahoo.com/sectors/industrials/', 'https://finance.yahoo.com/quote/WB/', 'https://finance.yahoo.com/calendar/economic', 'https://finance.yahoo.com/about/plans/select-plan/historicalStatistics?.done=/quote/ADS.DE/&ncid=100001118', 'https://sports.yahoo.com/college-football/scoreboard/', 'https://nz.yahoo.com/?p=dnr', 'https://finance.yahoo.com/quote/%5EGDAXI/', 'https://finance.yahoo.com/sectors/technology/', 'https://finance.yahoo.com/quote/RTY%3DF/', 'https://sports.yahoo.com/', 'https://finance.yahoo.com/markets/options/highest-open-interest/', 'https://finance.yahoo.com/news/consumer-discretionary-stocks-lagging-adidas-134010883.html', 'https://finance.yahoo.com/sitemap/', 'https://www.yahoo.com/lifestyle/fall-allergies/', 'https://finance.yahoo.com/topic/economic-news/', 'https://finance.yahoo.com/quote/SRRK/', 'https://finance.yahoo.com/topic/earnings/', 'https://finance.yahoo.com/personal-finance/best-free-checking-accounts-195709452.html', 'https://finance.yahoo.com/quote/ADS.DE/news/', 'https://finance.yahoo.com/most-active/', 'https://sports.yahoo.com/wnba/', 'https://finance.yahoo.com/calendar/', 'https://finance.yahoo.com/videos/series/', 'https://www.yahoo.com/lifestyle/relax/', 'https://sports.yahoo.com/soccer/bundesliga/', 'https://guce.yahoo.com/privacy-policy?locale=en-US', 'https://www.yahoo.com/lifestyle/tagged/sexual-health/', 'https://finance.yahoo.com/news/german-growth-companies-insider-ownership-113328085.html', 'https://finance.yahoo.com/quote/ASCCY/', 'https://www.yahoo.com/news/world/', 'https://finance.yahoo.com/videos/series/wealth/', 'https://www.yahoo.com/entertainment/movies/', 'https://www.yahoo.com/?p=dnr', 'https://finance.yahoo.com/personal-finance/credit-cards/', 'https://www.yahoo.com/entertainment/tv/', 'https://www.yahoo.com/lifestyle/tagged/covid/', 'https://sports.yahoo.com/mlb/odds/', 'https://sports.yahoo.com/nhl/scoreboard/', 'https://finance.yahoo.com/research?ncid=dcm_306158756_490172245_127172993', 'https://help.yahoo.com/kb/finance-for-web', 'https://hk.yahoo.com/?p=dnr', 'https://finance.yahoo.com/quote/SMCI/', 'https://sports.yahoo.com/nfl/gamechannel/', 'https://www.yahoo.com/lifestyle/tagged/do-i-need-to-worry/', 'https://sports.yahoo.com/nba/standings/', 'https://finance.yahoo.com/quote/NKE/', 'https://finance.yahoo.com/markets/stocks/most-active/', 'https://sports.yahoo.com/nfl/injuries/', 'https://sports.yahoo.com/mlb/players/', 'https://finance.yahoo.com/quote/NIO/', 'https://finance.yahoo.com/news/3-growth-companies-high-insider-030329631.html', 'https://finance.yahoo.com/markets/stocks/losers/', 'https://finance.yahoo.com/videos/latest/', 'https://finance.yahoo.com/videos/series/morning-brief/', 'https://finance.yahoo.com/quote/%5EDJI/', 'https://login.yahoo.com/?.lang=en-US&src=finance', 'https://www.yahoo.com/entertainment/tagged/interviews/', 'https://finance.yahoo.com/crypto/', 'https://www.yahoo.com/lifestyle/tagged/travel/', 'https://finance.yahoo.com/quote/HOOD/', 'https://finance.yahoo.com/personal-finance/mortgages/', 'https://finance.yahoo.com/personal-finance/insurance/', 'https://finance.yahoo.com/personal-finance/best-rewards-credit-card-203736692.html', 'https://www.yahoo.com/tech/health/', 'https://sports.yahoo.com/soccer/ligue-1/', 'https://finance.yahoo.com/sectors/energy/', 'https://finance.yahoo.com/about/plans/select-plan?.done=https%3A%2F%2Ffinance.yahoo.com%2Fquote%2FADS.DE%2F%3Ffailsafe%3D1%26ynet%3D0%26_device%3Ddesktop%26device%3Ddesktop&ncid=_1088_DCM-PARTNER_NATIVE_US_NoTargeting_HeaderEyebrow_YahooFinanceUsers___RightRail_Header-UpgradetoPaidSubscriptionButton__N_', 'https://www.yahoo.com/everything/world/', 'https://sports.yahoo.com/college-football/stats/', 'https://facebook.com/yahoofinance', 'https://sports.yahoo.com/podcasts/', 'https://finance.yahoo.com/quote/ADS.DE/community/', 'https://finance.yahoo.com/news/german-growth-stocks-high-insider-030355939.html', 'https://sports.yahoo.com/nhl/odds/', 'https://sports.yahoo.com/college-football/news/', 'https://www.yahoo.com/topics/gift-ideas/', 'https://finance.yahoo.com/news/', 'https://sports.yahoo.com/newsletters/yahoo-sports-am/', 'https://finance.yahoo.com/quote/CROX/', 'https://finance.yahoo.com/quote/MC.PA/', 'https://sports.yahoo.com/usfl/', 'https://finance.yahoo.com/personal-finance/student-loans/', 'https://sports.yahoo.com/nba/draft/', 'https://sports.yahoo.com/soccer/mls/', 'https://help.yahoo.com/kb/finance-for-web/SLN2310.html?locale=en_US', 'https://finance.yahoo.com/markets', 'https://finance.yahoo.com/sectors/basic-materials/', 'https://finance.yahoo.com/quote/SG/', 'https://finance.yahoo.com/quote/SPY/', 'https://sports.yahoo.com/mlb/standings/', 'https://finance.yahoo.com/topic/crypto/', 'https://sports.yahoo.com/nfl/players/', 'https://sports.yahoo.com/nhl/players/', 'https://finance.yahoo.com/videos/series/opening-bid/', 'https://finance.yahoo.com/portfolios', 'https://www.yahoo.com/games/', 'https://finance.yahoo.com/research/trade-ideas?ncid=dcm_306158753_490172245_127172993', 'https://finance.yahoo.com/quote/BILI/', 'https://news.yahoo.com/originals/', 'https://www.yahoo.com/tech/', 'https://sports.yahoo.com/nhl/', 'https://finance.yahoo.com/quote/RWE.DE/', 'https://finance.yahoo.com/quote/PTCT/', 'https://www.linkedin.com/company/yahoo-finance', 'https://au.yahoo.com/?p=dnr', 'https://www.yahoo.com/lifestyle/tagged/it-figures/', 'https://finance.yahoo.com/quote/IFX.DE/', 'https://finance.yahoo.com/quote/ADS.DE/chart/', 'https://finance.yahoo.com/markets/options/highest-implied-volatility/', 'https://espanol.yahoo.com/?p=dnr', 'https://www.yahoo.com/lifestyle/tagged/the-unwind/', 'https://finance.yahoo.com/currency-converter/', 'https://shopping.yahoo.com', 'https://www.adidas-group.com', 'https://finance.yahoo.com/quote/NQ%3DF/', 'https://baseball.fantasysports.yahoo.com/', 'https://sports.yahoo.com/soccer/nwsl/', 'https://finance.yahoo.com/news/german-growth-stocks-high-insider-030332085.html', 'https://finance.yahoo.com/watchlists/', 'https://finance.yahoo.com/quote/DJTWW/', 'https://finance.yahoo.com/bidenomics/', 'https://www.yahoo.com/news/science/', 'https://finance.yahoo.com/sectors/consumer-cyclical/footwear-accessories/', 'https://www.yahoo.com/elections/', 'https://finance.yahoo.com/quote/DJT/', 'https://www.yahoo.com/lifestyle/tagged/parenting/', 'https://finance.yahoo.com/quote/WW/', 'https://sports.yahoo.com/soccer/ligamx-clausura/', 'https://finance.yahoo.com/personal-finance/best-credit-card-sign-up-bonus-212458984.html', 'https://sports.yahoo.com/videos/nfl/', 'https://www.yahoo.com/tech/reviews-deals/', 'https://tw.yahoo.com/?p=dnr', 'https://finance.yahoo.com/quote/DBK.DE/', 'https://finance.yahoo.com/about/plans/', 'https://finance.yahoo.com/videos/', 'https://finance.yahoo.com/videos/editor-picks/', 'https://sports.yahoo.com/nhl/news/', 'https://finance.yahoo.com/gainers/', 'https://www.yahoo.com/news/tagged/360/', 'https://www.yahoo.com/tech/audio/', 'https://www.yahoo.com/lifestyle/horoscope/', 'https://finance.yahoo.com/news/october-2024-growth-companies-high-113329027.html', 'https://yahoo.uservoice.com/forums/952723-finance-b3', 'https://finance.yahoo.com/', 'https://sports.yahoo.com/nfl/scoreboard/', 'https://finance.yahoo.com/chart/%5EGSPC/', 'https://finance.yahoo.com/chart/ADS.DE', 'https://sports.yahoo.com/mlb/', 'https://finance.yahoo.com/quote/INTC/', 'https://www.yahoo.com/lifestyle/tagged/study/', 'https://sports.yahoo.com/nba/stats/', 'https://sports.yahoo.com/nfl/topic/super-bowl/', 'https://finance.yahoo.com/news/german-exchange-growth-stocks-insider-113332925.html', 'https://sports.yahoo.com/fantasy/', 'https://finance.yahoo.com/videos/investing-insights/', 'https://finance.yahoo.com/crypto/heatmap/', 'https://finance.yahoo.com/markets/etfs/top/', 'https://finance.yahoo.com/sectors/utilities/', 'https://sports.yahoo.com/videos/', 'https://sports.yahoo.com/jobs/', 'https://fr.yahoo.com/?p=dnr', 'https://finance.yahoo.com/quote/DOCS.L/', 'https://finance.yahoo.com/sectors/consumer-cyclical/', 'https://finance.yahoo.com/topic/personal-finance/', 'https://finance.yahoo.com/topic/etf-report/', 'https://www.yahoo.com/tech/science/', 'https://football.fantasysports.yahoo.com/', 'https://sports.yahoo.com/nhl/stanley-cup-playoffs/', 'https://finance.yahoo.com/topic/stock-market-news/', 'https://basketball.fantasysports.yahoo.com/', 'https://sports.yahoo.com/fantasy/mobile/', 'https://sports.yahoo.com/horse-racing/', 'https://sports.yahoo.com/nba/injuries/', 'https://www.yahoo.com/lifestyle/tagged/so-mini-ways/', 'https://finance.yahoo.com/quote/ES%3DF/', 'https://finance.yahoo.com/markets/stocks/gainers/', 'https://www.yahoo.com/tagged/climate-change/', 'https://finance.yahoo.com/sectors/healthcare/', 'https://finance.yahoo.com/personal-finance/refinance-mortgage-162831396.html', 'https://finance.yahoo.com/news/analysis-nike-struggles-adidas-must-050406748.html', 'https://www.yahoo.com/lifestyle/style-beauty/', 'https://finance.yahoo.com/portfolios/', 'https://www.yahoo.com/tech/phones/', 'https://www.yahoo.com/lifestyle/tagged/shopping/', 'https://sports.yahoo.com/soccer/scoreboard/', 'https://finance.yahoo.com/markets/bonds/', 'https://www.yahoo.com/tech/computing/', 'https://sports.yahoo.com/sportsbook/', 'https://finance.yahoo.com/quote/BAS.DE/', 'https://sports.yahoo.com/fantasy/news/', 'https://www.yahoo.com/tech/home/', 'https://sports.yahoo.com/nba/news/', 'https://football.fantasysports.yahoo.com/pickem', 'https://www.yahoo.com/election/', 'https://finance.yahoo.com/quote/WWW/', 'https://www.yahoo.com/lifestyle/tagged/unapologetically/', 'https://finance.yahoo.com/markets/crypto/all/', 'https://www.yahoo.com/lifestyle/tagged/family-health/', 'https://finance.yahoo.com/quote/FUTU/', 'https://finance.yahoo.com/personal-finance/best-high-yield-savings-account-203140689.html', 'https://finance.yahoo.com/news/top-german-growth-stocks-insider-030628046.html', 'https://www.yahoo.com/news/weather/', 'https://finance.yahoo.com/quote/PLTR/', 'https://sports.yahoo.com/nfl/teams/', 'https://finance.yahoo.com/quote/ALV.DE/', 'https://www.yahoo.com/news/politics/', 'https://sports.yahoo.com/college-womens-basketball/', 'https://finance.yahoo.com/markets/world-indices/', 'https://sports.yahoo.com/nba/scoreboard/', 'https://twitter.com/YahooFinance', 'https://n.rivals.com/', 'https://www.yahoo.com/entertainment/celebrity/', 'https://autos.yahoo.com/', 'https://finance.yahoo.com/losers/', 'https://finance.yahoo.com/quote/NVDA/', 'https://yahoo.com/tagged/climate-change/', 'https://sports.yahoo.com/dailyfantasy/', 'https://finance.yahoo.com/topic/morning-brief/', 'https://finance.yahoo.com/quote/BIRK/', 'https://finance.yahoo.com/quote/ADS.DE/sustainability/', 'https://finance.yahoo.com/taxes/', 'https://finance.yahoo.com/quote/TSLA/', 'https://www.yahoo.com/lifestyle/tagged/health/', 'https://sports.yahoo.com/soccer/world-cup/', 'https://finance.yahoo.com/personal-finance/best-cash-back-credit-cards-220845639.html', 'https://finance.yahoo.com/sectors/', 'https://finance.yahoo.com/quote/ADS.DE/financials/', 'https://sports.yahoo.com/mlb/world-baseball-classic/', 'https://finance.yahoo.com/topic/yahoo-finance-originals/', 'https://finance.yahoo.com/personal-finance/banking/', 'https://football.fantasysports.yahoo.com/college', 'https://www.yahoo.com/entertainment/tagged/how-to-watch/', 'https://finance.yahoo.com/news/3-german-growth-stocks-high-113339449.html', 'https://finance.yahoo.com/quote/YM%3DF/', 'https://sports.yahoo.com/mlb/gamechannel/', 'https://finance.yahoo.com/quote/BAYN.DE/', 'https://sports.yahoo.com/nfl/news/', 'https://finance.yahoo.com/personal-finance/best-credit-card-for-balance-transfer-213356438.html', 'https://sports.yahoo.com/nfl/stats/', 'https://www.yahoo.com/news/us/', 'https://sports.yahoo.com/soccer/', 'https://finance.yahoo.com/quote/PUM.DE/', 'https://ca.yahoo.com/?p=dnr', 'https://www.yahooinc.com/careers/', 'https://sports.yahoo.com/news/', 'https://finance.yahoo.com/screener/predefined/ms_basic_materials/', 'https://sports.yahoo.com/videos/nba/', 'https://guce.yahoo.com/terms?locale=en-US', 'https://sports.yahoo.com/college-basketball/', 'https://sports.yahoo.com/college-football/rankings/', 'https://finance.yahoo.com/quote/ADS.DE/options/', 'https://www.yahoo.com/lifestyle/tagged/food/', 'https://sports.yahoo.com/mlb/teams/', 'https://sports.yahoo.com/soccer/news/', 'https://sports.yahoo.com/motorsports/', 'https://sports.yahoo.com/college-football/', 'https://finance.yahoo.com/quote/VOW3.DE/', 'https://finance.yahoo.com/quote/HEN3.DE/', 'https://finance.yahoo.com/quote/CON.DE/', 'https://sports.yahoo.com/tennis/', 'https://www.adtech.yahooinc.com/advertising/solutions', 'https://sports.yahoo.com/boxing/', 'https://finance.yahoo.com/topic/housing-market/', 'https://policies.oath.com/us/en/oath/privacy/adinfo/index.html', 'https://sports.yahoo.com/cycling/', 'https://finance.yahoo.com/topic/latest-news/', 'https://sports.yahoo.com/soccer/concacaf-league/', 'https://sports.yahoo.com/mlb/stats/', 'https://www.yahoo.com/news/', 'https://sports.yahoo.com/nfl/standings/', 'https://finance.yahoo.com/quote/SKX/', 'https://sports.yahoo.com/golf/', 'https://sports.yahoo.com/nhl/standings/', 'https://finance.yahoo.com/personal-finance/find-best-cd-rates-165749654.html', 'https://finance.yahoo.com/compare/ADS.DE', 'https://www.yahoo.com/news/originals/', 'https://sports.yahoo.com/nfl/', 'https://www.yahoo.com/lifestyle/', 'https://finance.yahoo.com/screener/', 'https://qc.yahoo.com/?p=dnr', 'https://finance.yahoo.com/quote/DTE.DE/', 'https://shopping.yahoo.com/', 'https://sports.yahoo.com/nba/odds/', 'https://finance.yahoo.com/markets/currencies/', 'https://sports.yahoo.com/nfl/draft/', 'https://finance.yahoo.com/quote/ADS.DE/analysis/', 'https://finance.yahoo.com/markets/commodities/', 'https://finance.yahoo.com/quote/LHA.DE/', 'https://finance.yahoo.com/topic/premium-news', 'https://finance.yahoo.com/videos/trending-stocks/', 'https://sports.yahoo.com/nfl/odds/', 'https://finance.yahoo.com/quote/ONON/', 'https://sports.yahoo.com/videos/mlb/', 'https://www.yahoo.com/topics/buying-guides/'}\n"
     ]
    }
   ],
   "source": [
    "# Example usage\n",
    "website_url = 'https://finance.yahoo.com/quote/ADS.DE/'  # Replace with your desired website\n",
    "process_website(website_url)"
   ]
  },
  {
   "cell_type": "code",
   "execution_count": 1,
   "metadata": {},
   "outputs": [
    {
     "ename": "NameError",
     "evalue": "name 'process_website' is not defined",
     "output_type": "error",
     "traceback": [
      "\u001b[1;31m---------------------------------------------------------------------------\u001b[0m",
      "\u001b[1;31mNameError\u001b[0m                                 Traceback (most recent call last)",
      "Cell \u001b[1;32mIn[1], line 3\u001b[0m\n\u001b[0;32m      1\u001b[0m \u001b[38;5;66;03m# Example usage\u001b[39;00m\n\u001b[0;32m      2\u001b[0m website_url \u001b[38;5;241m=\u001b[39m \u001b[38;5;124m'\u001b[39m\u001b[38;5;124mhttps://finance.yahoo.com/quote/ADS.DE/news/\u001b[39m\u001b[38;5;124m'\u001b[39m  \u001b[38;5;66;03m# Replace with your desired website\u001b[39;00m\n\u001b[1;32m----> 3\u001b[0m \u001b[43mprocess_website\u001b[49m(website_url)\n",
      "\u001b[1;31mNameError\u001b[0m: name 'process_website' is not defined"
     ]
    }
   ],
   "source": [
    "# Example usage\n",
    "website_url = 'https://finance.yahoo.com/quote/ADS.DE/news/'  # Replace with your desired website\n",
    "process_website(website_url)"
   ]
  },
  {
   "cell_type": "code",
   "execution_count": 1,
   "metadata": {},
   "outputs": [
    {
     "name": "stderr",
     "output_type": "stream",
     "text": [
      "c:\\Users\\CQTF47\\Desktop\\IU Masters\\Thesis\\Project\\.venv\\lib\\site-packages\\tqdm\\auto.py:21: TqdmWarning: IProgress not found. Please update jupyter and ipywidgets. See https://ipywidgets.readthedocs.io/en/stable/user_install.html\n",
      "  from .autonotebook import tqdm as notebook_tqdm\n"
     ]
    }
   ],
   "source": [
    "from transformers import pipeline"
   ]
  },
  {
   "cell_type": "code",
   "execution_count": 3,
   "metadata": {},
   "outputs": [
    {
     "name": "stderr",
     "output_type": "stream",
     "text": [
      "No model was supplied, defaulted to distilbert/distilbert-base-uncased-finetuned-sst-2-english and revision af0f99b (https://huggingface.co/distilbert/distilbert-base-uncased-finetuned-sst-2-english).\n",
      "Using a pipeline without specifying a model name and revision in production is not recommended.\n",
      "c:\\Users\\CQTF47\\Desktop\\IU Masters\\Thesis\\Project\\.venv\\lib\\site-packages\\transformers\\tokenization_utils_base.py:1601: FutureWarning: `clean_up_tokenization_spaces` was not set. It will be set to `True` by default. This behavior will be depracted in transformers v4.45, and will be then set to `False` by default. For more details check this issue: https://github.com/huggingface/transformers/issues/31884\n",
      "  warnings.warn(\n"
     ]
    }
   ],
   "source": [
    "sentiment_pipeline = pipeline(\"sentiment-analysis\")"
   ]
  },
  {
   "cell_type": "code",
   "execution_count": 5,
   "metadata": {},
   "outputs": [
    {
     "data": {
      "text/plain": [
       "DistilBertForSequenceClassification(\n",
       "  (distilbert): DistilBertModel(\n",
       "    (embeddings): Embeddings(\n",
       "      (word_embeddings): Embedding(30522, 768, padding_idx=0)\n",
       "      (position_embeddings): Embedding(512, 768)\n",
       "      (LayerNorm): LayerNorm((768,), eps=1e-12, elementwise_affine=True)\n",
       "      (dropout): Dropout(p=0.1, inplace=False)\n",
       "    )\n",
       "    (transformer): Transformer(\n",
       "      (layer): ModuleList(\n",
       "        (0-5): 6 x TransformerBlock(\n",
       "          (attention): MultiHeadSelfAttention(\n",
       "            (dropout): Dropout(p=0.1, inplace=False)\n",
       "            (q_lin): Linear(in_features=768, out_features=768, bias=True)\n",
       "            (k_lin): Linear(in_features=768, out_features=768, bias=True)\n",
       "            (v_lin): Linear(in_features=768, out_features=768, bias=True)\n",
       "            (out_lin): Linear(in_features=768, out_features=768, bias=True)\n",
       "          )\n",
       "          (sa_layer_norm): LayerNorm((768,), eps=1e-12, elementwise_affine=True)\n",
       "          (ffn): FFN(\n",
       "            (dropout): Dropout(p=0.1, inplace=False)\n",
       "            (lin1): Linear(in_features=768, out_features=3072, bias=True)\n",
       "            (lin2): Linear(in_features=3072, out_features=768, bias=True)\n",
       "            (activation): GELUActivation()\n",
       "          )\n",
       "          (output_layer_norm): LayerNorm((768,), eps=1e-12, elementwise_affine=True)\n",
       "        )\n",
       "      )\n",
       "    )\n",
       "  )\n",
       "  (pre_classifier): Linear(in_features=768, out_features=768, bias=True)\n",
       "  (classifier): Linear(in_features=768, out_features=2, bias=True)\n",
       "  (dropout): Dropout(p=0.2, inplace=False)\n",
       ")"
      ]
     },
     "execution_count": 5,
     "metadata": {},
     "output_type": "execute_result"
    }
   ],
   "source": [
    "sentiment_pipeline.model"
   ]
  },
  {
   "cell_type": "code",
   "execution_count": null,
   "metadata": {},
   "outputs": [],
   "source": []
  }
 ],
 "metadata": {
  "kernelspec": {
   "display_name": ".venv",
   "language": "python",
   "name": "python3"
  },
  "language_info": {
   "codemirror_mode": {
    "name": "ipython",
    "version": 3
   },
   "file_extension": ".py",
   "mimetype": "text/x-python",
   "name": "python",
   "nbconvert_exporter": "python",
   "pygments_lexer": "ipython3",
   "version": "3.9.13"
  }
 },
 "nbformat": 4,
 "nbformat_minor": 2
}
